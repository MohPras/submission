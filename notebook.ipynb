{
  "cells": [
    {
      "cell_type": "markdown",
      "metadata": {
        "id": "H9wADwK78DCz"
      },
      "source": [
        "# Proyek Analisis Data: [Air-quality-dataset]\n",
        "- **Nama:** Mohammad Nurdin Prastya Hermansah\n",
        "- **Email:** mohammadnurdin2001@gmail.com\n",
        "- **ID Dicoding:** 2001nurdin"
      ]
    },
    {
      "cell_type": "markdown",
      "metadata": {
        "id": "eE0raob58DC0"
      },
      "source": [
        "## Menentukan Pertanyaan Bisnis"
      ]
    },
    {
      "cell_type": "markdown",
      "metadata": {
        "id": "GmQeQ5YF8DC0"
      },
      "source": [
        "- Pertanyaan 1 : Kota mana yang memiliki kualitas udara terbaik dan terburuk berdasarkan data yang tersedia?\n",
        "- Pertanyaan 2 : Polutan apa yang paling dominan di kota Changping dan Dongling?"
      ]
    },
    {
      "cell_type": "markdown",
      "metadata": {
        "id": "H-z4QGlO8DC1"
      },
      "source": [
        "## Import Semua Packages/Library yang Digunakan"
      ]
    },
    {
      "cell_type": "code",
      "execution_count": 2,
      "metadata": {
        "id": "FVYwaObI8DC1"
      },
      "outputs": [],
      "source": [
        "import numpy as np\n",
        "import pandas as pd\n",
        "import matplotlib.pyplot as plt\n",
        "import seaborn as sns\n",
        "import matplotlib.patches as mpatches"
      ]
    },
    {
      "cell_type": "markdown",
      "metadata": {
        "id": "h_Sh51Xy8DC1"
      },
      "source": [
        "## Data Wrangling"
      ]
    },
    {
      "cell_type": "markdown",
      "metadata": {
        "id": "sXU2GBYu8DC1"
      },
      "source": [
        "### Gathering Data"
      ]
    },
    {
      "cell_type": "code",
      "execution_count": 3,
      "metadata": {
        "colab": {
          "base_uri": "https://localhost:8080/",
          "height": 0
        },
        "id": "zjCBk1BI8DC1",
        "outputId": "b230e785-6904-4e0a-b853-924b8d6319f1"
      },
      "outputs": [
        {
          "data": {
            "text/html": [
              "<div>\n",
              "<style scoped>\n",
              "    .dataframe tbody tr th:only-of-type {\n",
              "        vertical-align: middle;\n",
              "    }\n",
              "\n",
              "    .dataframe tbody tr th {\n",
              "        vertical-align: top;\n",
              "    }\n",
              "\n",
              "    .dataframe thead th {\n",
              "        text-align: right;\n",
              "    }\n",
              "</style>\n",
              "<table border=\"1\" class=\"dataframe\">\n",
              "  <thead>\n",
              "    <tr style=\"text-align: right;\">\n",
              "      <th></th>\n",
              "      <th>No</th>\n",
              "      <th>year</th>\n",
              "      <th>month</th>\n",
              "      <th>day</th>\n",
              "      <th>hour</th>\n",
              "      <th>PM2.5</th>\n",
              "      <th>PM10</th>\n",
              "      <th>SO2</th>\n",
              "      <th>NO2</th>\n",
              "      <th>CO</th>\n",
              "      <th>O3</th>\n",
              "      <th>TEMP</th>\n",
              "      <th>PRES</th>\n",
              "      <th>DEWP</th>\n",
              "      <th>RAIN</th>\n",
              "      <th>wd</th>\n",
              "      <th>WSPM</th>\n",
              "      <th>station</th>\n",
              "    </tr>\n",
              "  </thead>\n",
              "  <tbody>\n",
              "    <tr>\n",
              "      <th>0</th>\n",
              "      <td>1</td>\n",
              "      <td>2013</td>\n",
              "      <td>3</td>\n",
              "      <td>1</td>\n",
              "      <td>0</td>\n",
              "      <td>3.0</td>\n",
              "      <td>6.0</td>\n",
              "      <td>13.0</td>\n",
              "      <td>7.0</td>\n",
              "      <td>300.0</td>\n",
              "      <td>85.0</td>\n",
              "      <td>-2.3</td>\n",
              "      <td>1020.8</td>\n",
              "      <td>-19.7</td>\n",
              "      <td>0.0</td>\n",
              "      <td>E</td>\n",
              "      <td>0.5</td>\n",
              "      <td>Changping</td>\n",
              "    </tr>\n",
              "    <tr>\n",
              "      <th>1</th>\n",
              "      <td>2</td>\n",
              "      <td>2013</td>\n",
              "      <td>3</td>\n",
              "      <td>1</td>\n",
              "      <td>1</td>\n",
              "      <td>3.0</td>\n",
              "      <td>3.0</td>\n",
              "      <td>6.0</td>\n",
              "      <td>6.0</td>\n",
              "      <td>300.0</td>\n",
              "      <td>85.0</td>\n",
              "      <td>-2.5</td>\n",
              "      <td>1021.3</td>\n",
              "      <td>-19.0</td>\n",
              "      <td>0.0</td>\n",
              "      <td>ENE</td>\n",
              "      <td>0.7</td>\n",
              "      <td>Changping</td>\n",
              "    </tr>\n",
              "    <tr>\n",
              "      <th>2</th>\n",
              "      <td>3</td>\n",
              "      <td>2013</td>\n",
              "      <td>3</td>\n",
              "      <td>1</td>\n",
              "      <td>2</td>\n",
              "      <td>3.0</td>\n",
              "      <td>3.0</td>\n",
              "      <td>22.0</td>\n",
              "      <td>13.0</td>\n",
              "      <td>400.0</td>\n",
              "      <td>74.0</td>\n",
              "      <td>-3.0</td>\n",
              "      <td>1021.3</td>\n",
              "      <td>-19.9</td>\n",
              "      <td>0.0</td>\n",
              "      <td>ENE</td>\n",
              "      <td>0.2</td>\n",
              "      <td>Changping</td>\n",
              "    </tr>\n",
              "    <tr>\n",
              "      <th>3</th>\n",
              "      <td>4</td>\n",
              "      <td>2013</td>\n",
              "      <td>3</td>\n",
              "      <td>1</td>\n",
              "      <td>3</td>\n",
              "      <td>3.0</td>\n",
              "      <td>6.0</td>\n",
              "      <td>12.0</td>\n",
              "      <td>8.0</td>\n",
              "      <td>300.0</td>\n",
              "      <td>81.0</td>\n",
              "      <td>-3.6</td>\n",
              "      <td>1021.8</td>\n",
              "      <td>-19.1</td>\n",
              "      <td>0.0</td>\n",
              "      <td>NNE</td>\n",
              "      <td>1.0</td>\n",
              "      <td>Changping</td>\n",
              "    </tr>\n",
              "    <tr>\n",
              "      <th>4</th>\n",
              "      <td>5</td>\n",
              "      <td>2013</td>\n",
              "      <td>3</td>\n",
              "      <td>1</td>\n",
              "      <td>4</td>\n",
              "      <td>3.0</td>\n",
              "      <td>3.0</td>\n",
              "      <td>14.0</td>\n",
              "      <td>8.0</td>\n",
              "      <td>300.0</td>\n",
              "      <td>81.0</td>\n",
              "      <td>-3.5</td>\n",
              "      <td>1022.3</td>\n",
              "      <td>-19.4</td>\n",
              "      <td>0.0</td>\n",
              "      <td>N</td>\n",
              "      <td>2.1</td>\n",
              "      <td>Changping</td>\n",
              "    </tr>\n",
              "  </tbody>\n",
              "</table>\n",
              "</div>"
            ],
            "text/plain": [
              "   No  year  month  day  hour  PM2.5  PM10   SO2   NO2     CO    O3  TEMP  \\\n",
              "0   1  2013      3    1     0    3.0   6.0  13.0   7.0  300.0  85.0  -2.3   \n",
              "1   2  2013      3    1     1    3.0   3.0   6.0   6.0  300.0  85.0  -2.5   \n",
              "2   3  2013      3    1     2    3.0   3.0  22.0  13.0  400.0  74.0  -3.0   \n",
              "3   4  2013      3    1     3    3.0   6.0  12.0   8.0  300.0  81.0  -3.6   \n",
              "4   5  2013      3    1     4    3.0   3.0  14.0   8.0  300.0  81.0  -3.5   \n",
              "\n",
              "     PRES  DEWP  RAIN   wd  WSPM    station  \n",
              "0  1020.8 -19.7   0.0    E   0.5  Changping  \n",
              "1  1021.3 -19.0   0.0  ENE   0.7  Changping  \n",
              "2  1021.3 -19.9   0.0  ENE   0.2  Changping  \n",
              "3  1021.8 -19.1   0.0  NNE   1.0  Changping  \n",
              "4  1022.3 -19.4   0.0    N   2.1  Changping  "
            ]
          },
          "execution_count": 3,
          "metadata": {},
          "output_type": "execute_result"
        }
      ],
      "source": [
        "Data_Changping_df = pd.read_csv(\"https://raw.githubusercontent.com/MohPras/Air-Quality-Dataset-/refs/heads/main/PRSA_Data_Changping_20130301-20170228.csv\")\n",
        "Data_Changping_df.head()"
      ]
    },
    {
      "cell_type": "code",
      "execution_count": 4,
      "metadata": {
        "colab": {
          "base_uri": "https://localhost:8080/",
          "height": 0
        },
        "id": "Jv6BDZt8ITgv",
        "outputId": "f5bd531f-488e-4de9-a615-29b10d34b0ac"
      },
      "outputs": [
        {
          "data": {
            "text/html": [
              "<div>\n",
              "<style scoped>\n",
              "    .dataframe tbody tr th:only-of-type {\n",
              "        vertical-align: middle;\n",
              "    }\n",
              "\n",
              "    .dataframe tbody tr th {\n",
              "        vertical-align: top;\n",
              "    }\n",
              "\n",
              "    .dataframe thead th {\n",
              "        text-align: right;\n",
              "    }\n",
              "</style>\n",
              "<table border=\"1\" class=\"dataframe\">\n",
              "  <thead>\n",
              "    <tr style=\"text-align: right;\">\n",
              "      <th></th>\n",
              "      <th>No</th>\n",
              "      <th>year</th>\n",
              "      <th>month</th>\n",
              "      <th>day</th>\n",
              "      <th>hour</th>\n",
              "      <th>PM2.5</th>\n",
              "      <th>PM10</th>\n",
              "      <th>SO2</th>\n",
              "      <th>NO2</th>\n",
              "      <th>CO</th>\n",
              "      <th>O3</th>\n",
              "      <th>TEMP</th>\n",
              "      <th>PRES</th>\n",
              "      <th>DEWP</th>\n",
              "      <th>RAIN</th>\n",
              "      <th>wd</th>\n",
              "      <th>WSPM</th>\n",
              "      <th>station</th>\n",
              "    </tr>\n",
              "  </thead>\n",
              "  <tbody>\n",
              "    <tr>\n",
              "      <th>0</th>\n",
              "      <td>1</td>\n",
              "      <td>2013</td>\n",
              "      <td>3</td>\n",
              "      <td>1</td>\n",
              "      <td>0</td>\n",
              "      <td>4.0</td>\n",
              "      <td>4.0</td>\n",
              "      <td>3.0</td>\n",
              "      <td>NaN</td>\n",
              "      <td>200.0</td>\n",
              "      <td>82.0</td>\n",
              "      <td>-2.3</td>\n",
              "      <td>1020.8</td>\n",
              "      <td>-19.7</td>\n",
              "      <td>0.0</td>\n",
              "      <td>E</td>\n",
              "      <td>0.5</td>\n",
              "      <td>Dingling</td>\n",
              "    </tr>\n",
              "    <tr>\n",
              "      <th>1</th>\n",
              "      <td>2</td>\n",
              "      <td>2013</td>\n",
              "      <td>3</td>\n",
              "      <td>1</td>\n",
              "      <td>1</td>\n",
              "      <td>7.0</td>\n",
              "      <td>7.0</td>\n",
              "      <td>3.0</td>\n",
              "      <td>NaN</td>\n",
              "      <td>200.0</td>\n",
              "      <td>80.0</td>\n",
              "      <td>-2.5</td>\n",
              "      <td>1021.3</td>\n",
              "      <td>-19.0</td>\n",
              "      <td>0.0</td>\n",
              "      <td>ENE</td>\n",
              "      <td>0.7</td>\n",
              "      <td>Dingling</td>\n",
              "    </tr>\n",
              "    <tr>\n",
              "      <th>2</th>\n",
              "      <td>3</td>\n",
              "      <td>2013</td>\n",
              "      <td>3</td>\n",
              "      <td>1</td>\n",
              "      <td>2</td>\n",
              "      <td>5.0</td>\n",
              "      <td>5.0</td>\n",
              "      <td>3.0</td>\n",
              "      <td>2.0</td>\n",
              "      <td>200.0</td>\n",
              "      <td>79.0</td>\n",
              "      <td>-3.0</td>\n",
              "      <td>1021.3</td>\n",
              "      <td>-19.9</td>\n",
              "      <td>0.0</td>\n",
              "      <td>ENE</td>\n",
              "      <td>0.2</td>\n",
              "      <td>Dingling</td>\n",
              "    </tr>\n",
              "    <tr>\n",
              "      <th>3</th>\n",
              "      <td>4</td>\n",
              "      <td>2013</td>\n",
              "      <td>3</td>\n",
              "      <td>1</td>\n",
              "      <td>3</td>\n",
              "      <td>6.0</td>\n",
              "      <td>6.0</td>\n",
              "      <td>3.0</td>\n",
              "      <td>NaN</td>\n",
              "      <td>200.0</td>\n",
              "      <td>79.0</td>\n",
              "      <td>-3.6</td>\n",
              "      <td>1021.8</td>\n",
              "      <td>-19.1</td>\n",
              "      <td>0.0</td>\n",
              "      <td>NNE</td>\n",
              "      <td>1.0</td>\n",
              "      <td>Dingling</td>\n",
              "    </tr>\n",
              "    <tr>\n",
              "      <th>4</th>\n",
              "      <td>5</td>\n",
              "      <td>2013</td>\n",
              "      <td>3</td>\n",
              "      <td>1</td>\n",
              "      <td>4</td>\n",
              "      <td>5.0</td>\n",
              "      <td>5.0</td>\n",
              "      <td>3.0</td>\n",
              "      <td>NaN</td>\n",
              "      <td>200.0</td>\n",
              "      <td>81.0</td>\n",
              "      <td>-3.5</td>\n",
              "      <td>1022.3</td>\n",
              "      <td>-19.4</td>\n",
              "      <td>0.0</td>\n",
              "      <td>N</td>\n",
              "      <td>2.1</td>\n",
              "      <td>Dingling</td>\n",
              "    </tr>\n",
              "  </tbody>\n",
              "</table>\n",
              "</div>"
            ],
            "text/plain": [
              "   No  year  month  day  hour  PM2.5  PM10  SO2  NO2     CO    O3  TEMP  \\\n",
              "0   1  2013      3    1     0    4.0   4.0  3.0  NaN  200.0  82.0  -2.3   \n",
              "1   2  2013      3    1     1    7.0   7.0  3.0  NaN  200.0  80.0  -2.5   \n",
              "2   3  2013      3    1     2    5.0   5.0  3.0  2.0  200.0  79.0  -3.0   \n",
              "3   4  2013      3    1     3    6.0   6.0  3.0  NaN  200.0  79.0  -3.6   \n",
              "4   5  2013      3    1     4    5.0   5.0  3.0  NaN  200.0  81.0  -3.5   \n",
              "\n",
              "     PRES  DEWP  RAIN   wd  WSPM   station  \n",
              "0  1020.8 -19.7   0.0    E   0.5  Dingling  \n",
              "1  1021.3 -19.0   0.0  ENE   0.7  Dingling  \n",
              "2  1021.3 -19.9   0.0  ENE   0.2  Dingling  \n",
              "3  1021.8 -19.1   0.0  NNE   1.0  Dingling  \n",
              "4  1022.3 -19.4   0.0    N   2.1  Dingling  "
            ]
          },
          "execution_count": 4,
          "metadata": {},
          "output_type": "execute_result"
        }
      ],
      "source": [
        "Data_Dingling_df = pd.read_csv(\"https://raw.githubusercontent.com/MohPras/Air-Quality-Dataset-/refs/heads/main/PRSA_Data_Dingling_20130301-20170228.csv\")\n",
        "Data_Dingling_df.head()"
      ]
    },
    {
      "cell_type": "markdown",
      "metadata": {
        "id": "FHSiqaZp8DC1"
      },
      "source": [
        "### Assessing Data"
      ]
    },
    {
      "cell_type": "markdown",
      "metadata": {
        "id": "CAbLCP69LGdY"
      },
      "source": [
        "### Menilai data changping"
      ]
    },
    {
      "cell_type": "code",
      "execution_count": 5,
      "metadata": {
        "colab": {
          "base_uri": "https://localhost:8080/"
        },
        "id": "ax-3tEjc9Cj1",
        "outputId": "108f78d2-7b4b-42d5-ac77-cafba86211af"
      },
      "outputs": [
        {
          "name": "stdout",
          "output_type": "stream",
          "text": [
            "<class 'pandas.core.frame.DataFrame'>\n",
            "RangeIndex: 35064 entries, 0 to 35063\n",
            "Data columns (total 18 columns):\n",
            " #   Column   Non-Null Count  Dtype  \n",
            "---  ------   --------------  -----  \n",
            " 0   No       35064 non-null  int64  \n",
            " 1   year     35064 non-null  int64  \n",
            " 2   month    35064 non-null  int64  \n",
            " 3   day      35064 non-null  int64  \n",
            " 4   hour     35064 non-null  int64  \n",
            " 5   PM2.5    34290 non-null  float64\n",
            " 6   PM10     34482 non-null  float64\n",
            " 7   SO2      34436 non-null  float64\n",
            " 8   NO2      34397 non-null  float64\n",
            " 9   CO       33543 non-null  float64\n",
            " 10  O3       34460 non-null  float64\n",
            " 11  TEMP     35011 non-null  float64\n",
            " 12  PRES     35014 non-null  float64\n",
            " 13  DEWP     35011 non-null  float64\n",
            " 14  RAIN     35013 non-null  float64\n",
            " 15  wd       34924 non-null  object \n",
            " 16  WSPM     35021 non-null  float64\n",
            " 17  station  35064 non-null  object \n",
            "dtypes: float64(11), int64(5), object(2)\n",
            "memory usage: 4.8+ MB\n"
          ]
        }
      ],
      "source": [
        "# cek tipe data\n",
        "Data_Changping_df.info()"
      ]
    },
    {
      "cell_type": "code",
      "execution_count": 6,
      "metadata": {
        "colab": {
          "base_uri": "https://localhost:8080/",
          "height": 0
        },
        "id": "0LtKOOUFJjql",
        "outputId": "917d4169-cd26-4dcb-f384-10c390805793"
      },
      "outputs": [
        {
          "data": {
            "text/plain": [
              "No            0\n",
              "year          0\n",
              "month         0\n",
              "day           0\n",
              "hour          0\n",
              "PM2.5       774\n",
              "PM10        582\n",
              "SO2         628\n",
              "NO2         667\n",
              "CO         1521\n",
              "O3          604\n",
              "TEMP         53\n",
              "PRES         50\n",
              "DEWP         53\n",
              "RAIN         51\n",
              "wd          140\n",
              "WSPM         43\n",
              "station       0\n",
              "dtype: int64"
            ]
          },
          "execution_count": 6,
          "metadata": {},
          "output_type": "execute_result"
        }
      ],
      "source": [
        "# cek missing value\n",
        "Data_Changping_df.isna() .sum()"
      ]
    },
    {
      "cell_type": "markdown",
      "metadata": {
        "id": "qlDdiEalvaeM"
      },
      "source": [
        "Kesimpulan\n",
        "- Ada mising value pada data"
      ]
    },
    {
      "cell_type": "code",
      "execution_count": 7,
      "metadata": {
        "colab": {
          "base_uri": "https://localhost:8080/"
        },
        "id": "RIYDQxs3MMP8",
        "outputId": "21ce2e6d-8e69-4d6e-a12a-5f088448c927"
      },
      "outputs": [
        {
          "name": "stdout",
          "output_type": "stream",
          "text": [
            "Kesimpulan duplikasi data ada:  0\n"
          ]
        }
      ],
      "source": [
        "# Cek duplikasi data\n",
        "print(\"Kesimpulan duplikasi data ada: \", Data_Changping_df.duplicated() .sum())"
      ]
    },
    {
      "cell_type": "code",
      "execution_count": 8,
      "metadata": {
        "colab": {
          "base_uri": "https://localhost:8080/",
          "height": 0
        },
        "id": "rnT1JwohMrVl",
        "outputId": "b870d646-545b-4133-af6e-89654aa91873"
      },
      "outputs": [
        {
          "data": {
            "text/html": [
              "<div>\n",
              "<style scoped>\n",
              "    .dataframe tbody tr th:only-of-type {\n",
              "        vertical-align: middle;\n",
              "    }\n",
              "\n",
              "    .dataframe tbody tr th {\n",
              "        vertical-align: top;\n",
              "    }\n",
              "\n",
              "    .dataframe thead th {\n",
              "        text-align: right;\n",
              "    }\n",
              "</style>\n",
              "<table border=\"1\" class=\"dataframe\">\n",
              "  <thead>\n",
              "    <tr style=\"text-align: right;\">\n",
              "      <th></th>\n",
              "      <th>No</th>\n",
              "      <th>year</th>\n",
              "      <th>month</th>\n",
              "      <th>day</th>\n",
              "      <th>hour</th>\n",
              "      <th>PM2.5</th>\n",
              "      <th>PM10</th>\n",
              "      <th>SO2</th>\n",
              "      <th>NO2</th>\n",
              "      <th>CO</th>\n",
              "      <th>O3</th>\n",
              "      <th>TEMP</th>\n",
              "      <th>PRES</th>\n",
              "      <th>DEWP</th>\n",
              "      <th>RAIN</th>\n",
              "      <th>WSPM</th>\n",
              "    </tr>\n",
              "  </thead>\n",
              "  <tbody>\n",
              "    <tr>\n",
              "      <th>count</th>\n",
              "      <td>35064.000000</td>\n",
              "      <td>35064.000000</td>\n",
              "      <td>35064.000000</td>\n",
              "      <td>35064.000000</td>\n",
              "      <td>35064.000000</td>\n",
              "      <td>34290.000000</td>\n",
              "      <td>34482.000000</td>\n",
              "      <td>34436.000000</td>\n",
              "      <td>34397.000000</td>\n",
              "      <td>33543.000000</td>\n",
              "      <td>34460.000000</td>\n",
              "      <td>35011.000000</td>\n",
              "      <td>35014.000000</td>\n",
              "      <td>35011.000000</td>\n",
              "      <td>35013.000000</td>\n",
              "      <td>35021.000000</td>\n",
              "    </tr>\n",
              "    <tr>\n",
              "      <th>mean</th>\n",
              "      <td>17532.500000</td>\n",
              "      <td>2014.662560</td>\n",
              "      <td>6.522930</td>\n",
              "      <td>15.729637</td>\n",
              "      <td>11.500000</td>\n",
              "      <td>71.099743</td>\n",
              "      <td>94.657871</td>\n",
              "      <td>14.958906</td>\n",
              "      <td>44.182086</td>\n",
              "      <td>1152.301345</td>\n",
              "      <td>57.940003</td>\n",
              "      <td>13.686111</td>\n",
              "      <td>1007.760278</td>\n",
              "      <td>1.505495</td>\n",
              "      <td>0.060366</td>\n",
              "      <td>1.853836</td>\n",
              "    </tr>\n",
              "    <tr>\n",
              "      <th>std</th>\n",
              "      <td>10122.249256</td>\n",
              "      <td>1.177213</td>\n",
              "      <td>3.448752</td>\n",
              "      <td>8.800218</td>\n",
              "      <td>6.922285</td>\n",
              "      <td>72.326926</td>\n",
              "      <td>83.441738</td>\n",
              "      <td>20.975331</td>\n",
              "      <td>29.519796</td>\n",
              "      <td>1103.056282</td>\n",
              "      <td>54.316674</td>\n",
              "      <td>11.365313</td>\n",
              "      <td>10.225664</td>\n",
              "      <td>13.822099</td>\n",
              "      <td>0.752899</td>\n",
              "      <td>1.309808</td>\n",
              "    </tr>\n",
              "    <tr>\n",
              "      <th>min</th>\n",
              "      <td>1.000000</td>\n",
              "      <td>2013.000000</td>\n",
              "      <td>1.000000</td>\n",
              "      <td>1.000000</td>\n",
              "      <td>0.000000</td>\n",
              "      <td>2.000000</td>\n",
              "      <td>2.000000</td>\n",
              "      <td>0.285600</td>\n",
              "      <td>1.847700</td>\n",
              "      <td>100.000000</td>\n",
              "      <td>0.214200</td>\n",
              "      <td>-16.600000</td>\n",
              "      <td>982.400000</td>\n",
              "      <td>-35.100000</td>\n",
              "      <td>0.000000</td>\n",
              "      <td>0.000000</td>\n",
              "    </tr>\n",
              "    <tr>\n",
              "      <th>25%</th>\n",
              "      <td>8766.750000</td>\n",
              "      <td>2014.000000</td>\n",
              "      <td>4.000000</td>\n",
              "      <td>8.000000</td>\n",
              "      <td>5.750000</td>\n",
              "      <td>18.000000</td>\n",
              "      <td>34.000000</td>\n",
              "      <td>2.000000</td>\n",
              "      <td>22.000000</td>\n",
              "      <td>500.000000</td>\n",
              "      <td>15.636600</td>\n",
              "      <td>3.400000</td>\n",
              "      <td>999.300000</td>\n",
              "      <td>-10.200000</td>\n",
              "      <td>0.000000</td>\n",
              "      <td>1.000000</td>\n",
              "    </tr>\n",
              "    <tr>\n",
              "      <th>50%</th>\n",
              "      <td>17532.500000</td>\n",
              "      <td>2015.000000</td>\n",
              "      <td>7.000000</td>\n",
              "      <td>16.000000</td>\n",
              "      <td>11.500000</td>\n",
              "      <td>46.000000</td>\n",
              "      <td>72.000000</td>\n",
              "      <td>7.000000</td>\n",
              "      <td>36.000000</td>\n",
              "      <td>800.000000</td>\n",
              "      <td>46.000000</td>\n",
              "      <td>14.700000</td>\n",
              "      <td>1007.400000</td>\n",
              "      <td>1.800000</td>\n",
              "      <td>0.000000</td>\n",
              "      <td>1.500000</td>\n",
              "    </tr>\n",
              "    <tr>\n",
              "      <th>75%</th>\n",
              "      <td>26298.250000</td>\n",
              "      <td>2016.000000</td>\n",
              "      <td>10.000000</td>\n",
              "      <td>23.000000</td>\n",
              "      <td>17.250000</td>\n",
              "      <td>100.000000</td>\n",
              "      <td>131.000000</td>\n",
              "      <td>18.000000</td>\n",
              "      <td>60.358200</td>\n",
              "      <td>1400.000000</td>\n",
              "      <td>80.000000</td>\n",
              "      <td>23.300000</td>\n",
              "      <td>1016.000000</td>\n",
              "      <td>14.200000</td>\n",
              "      <td>0.000000</td>\n",
              "      <td>2.300000</td>\n",
              "    </tr>\n",
              "    <tr>\n",
              "      <th>max</th>\n",
              "      <td>35064.000000</td>\n",
              "      <td>2017.000000</td>\n",
              "      <td>12.000000</td>\n",
              "      <td>31.000000</td>\n",
              "      <td>23.000000</td>\n",
              "      <td>882.000000</td>\n",
              "      <td>999.000000</td>\n",
              "      <td>310.000000</td>\n",
              "      <td>226.000000</td>\n",
              "      <td>10000.000000</td>\n",
              "      <td>429.000000</td>\n",
              "      <td>41.400000</td>\n",
              "      <td>1036.500000</td>\n",
              "      <td>27.200000</td>\n",
              "      <td>52.100000</td>\n",
              "      <td>10.000000</td>\n",
              "    </tr>\n",
              "  </tbody>\n",
              "</table>\n",
              "</div>"
            ],
            "text/plain": [
              "                 No          year         month           day          hour  \\\n",
              "count  35064.000000  35064.000000  35064.000000  35064.000000  35064.000000   \n",
              "mean   17532.500000   2014.662560      6.522930     15.729637     11.500000   \n",
              "std    10122.249256      1.177213      3.448752      8.800218      6.922285   \n",
              "min        1.000000   2013.000000      1.000000      1.000000      0.000000   \n",
              "25%     8766.750000   2014.000000      4.000000      8.000000      5.750000   \n",
              "50%    17532.500000   2015.000000      7.000000     16.000000     11.500000   \n",
              "75%    26298.250000   2016.000000     10.000000     23.000000     17.250000   \n",
              "max    35064.000000   2017.000000     12.000000     31.000000     23.000000   \n",
              "\n",
              "              PM2.5          PM10           SO2           NO2            CO  \\\n",
              "count  34290.000000  34482.000000  34436.000000  34397.000000  33543.000000   \n",
              "mean      71.099743     94.657871     14.958906     44.182086   1152.301345   \n",
              "std       72.326926     83.441738     20.975331     29.519796   1103.056282   \n",
              "min        2.000000      2.000000      0.285600      1.847700    100.000000   \n",
              "25%       18.000000     34.000000      2.000000     22.000000    500.000000   \n",
              "50%       46.000000     72.000000      7.000000     36.000000    800.000000   \n",
              "75%      100.000000    131.000000     18.000000     60.358200   1400.000000   \n",
              "max      882.000000    999.000000    310.000000    226.000000  10000.000000   \n",
              "\n",
              "                 O3          TEMP          PRES          DEWP          RAIN  \\\n",
              "count  34460.000000  35011.000000  35014.000000  35011.000000  35013.000000   \n",
              "mean      57.940003     13.686111   1007.760278      1.505495      0.060366   \n",
              "std       54.316674     11.365313     10.225664     13.822099      0.752899   \n",
              "min        0.214200    -16.600000    982.400000    -35.100000      0.000000   \n",
              "25%       15.636600      3.400000    999.300000    -10.200000      0.000000   \n",
              "50%       46.000000     14.700000   1007.400000      1.800000      0.000000   \n",
              "75%       80.000000     23.300000   1016.000000     14.200000      0.000000   \n",
              "max      429.000000     41.400000   1036.500000     27.200000     52.100000   \n",
              "\n",
              "               WSPM  \n",
              "count  35021.000000  \n",
              "mean       1.853836  \n",
              "std        1.309808  \n",
              "min        0.000000  \n",
              "25%        1.000000  \n",
              "50%        1.500000  \n",
              "75%        2.300000  \n",
              "max       10.000000  "
            ]
          },
          "execution_count": 8,
          "metadata": {},
          "output_type": "execute_result"
        }
      ],
      "source": [
        "# Cek statistik data\n",
        "Data_Changping_df.describe()"
      ]
    },
    {
      "cell_type": "markdown",
      "metadata": {
        "id": "DQZHxi8sNeP_"
      },
      "source": [
        "### Menilai Data Dingling"
      ]
    },
    {
      "cell_type": "code",
      "execution_count": 9,
      "metadata": {
        "colab": {
          "base_uri": "https://localhost:8080/"
        },
        "id": "k9UtBJGtNsSL",
        "outputId": "0ee13d20-daa0-41de-f1a2-de074ff06070"
      },
      "outputs": [
        {
          "name": "stdout",
          "output_type": "stream",
          "text": [
            "<class 'pandas.core.frame.DataFrame'>\n",
            "RangeIndex: 35064 entries, 0 to 35063\n",
            "Data columns (total 18 columns):\n",
            " #   Column   Non-Null Count  Dtype  \n",
            "---  ------   --------------  -----  \n",
            " 0   No       35064 non-null  int64  \n",
            " 1   year     35064 non-null  int64  \n",
            " 2   month    35064 non-null  int64  \n",
            " 3   day      35064 non-null  int64  \n",
            " 4   hour     35064 non-null  int64  \n",
            " 5   PM2.5    34285 non-null  float64\n",
            " 6   PM10     34408 non-null  float64\n",
            " 7   SO2      34334 non-null  float64\n",
            " 8   NO2      33830 non-null  float64\n",
            " 9   CO       33052 non-null  float64\n",
            " 10  O3       33850 non-null  float64\n",
            " 11  TEMP     35011 non-null  float64\n",
            " 12  PRES     35014 non-null  float64\n",
            " 13  DEWP     35011 non-null  float64\n",
            " 14  RAIN     35013 non-null  float64\n",
            " 15  wd       34924 non-null  object \n",
            " 16  WSPM     35021 non-null  float64\n",
            " 17  station  35064 non-null  object \n",
            "dtypes: float64(11), int64(5), object(2)\n",
            "memory usage: 4.8+ MB\n"
          ]
        }
      ],
      "source": [
        "# cek tipe data\n",
        "Data_Dingling_df.info()"
      ]
    },
    {
      "cell_type": "code",
      "execution_count": 10,
      "metadata": {
        "colab": {
          "base_uri": "https://localhost:8080/",
          "height": 0
        },
        "id": "NB1o7wT1vnqe",
        "outputId": "92fe77f5-9adc-4132-8fc4-50259e601434"
      },
      "outputs": [
        {
          "data": {
            "text/plain": [
              "No            0\n",
              "year          0\n",
              "month         0\n",
              "day           0\n",
              "hour          0\n",
              "PM2.5       779\n",
              "PM10        656\n",
              "SO2         730\n",
              "NO2        1234\n",
              "CO         2012\n",
              "O3         1214\n",
              "TEMP         53\n",
              "PRES         50\n",
              "DEWP         53\n",
              "RAIN         51\n",
              "wd          140\n",
              "WSPM         43\n",
              "station       0\n",
              "dtype: int64"
            ]
          },
          "execution_count": 10,
          "metadata": {},
          "output_type": "execute_result"
        }
      ],
      "source": [
        "# cek missing data\n",
        "Data_Dingling_df.isna().sum()"
      ]
    },
    {
      "cell_type": "markdown",
      "metadata": {
        "id": "V6odPjJKvtaq"
      },
      "source": [
        "Kesimpulan\n",
        "- Ada missing value pada data"
      ]
    },
    {
      "cell_type": "code",
      "execution_count": 11,
      "metadata": {
        "colab": {
          "base_uri": "https://localhost:8080/"
        },
        "id": "EtrW7ARCjaZi",
        "outputId": "e567d904-032c-4183-83d5-75a73fdf2731"
      },
      "outputs": [
        {
          "name": "stdout",
          "output_type": "stream",
          "text": [
            "Kesimpulan pada data ini duplikasi data ada:  0\n"
          ]
        }
      ],
      "source": [
        "# cek duplikasi data\n",
        "print(\"Kesimpulan pada data ini duplikasi data ada: \", Data_Dingling_df.duplicated().sum())"
      ]
    },
    {
      "cell_type": "code",
      "execution_count": 12,
      "metadata": {
        "colab": {
          "base_uri": "https://localhost:8080/",
          "height": 0
        },
        "id": "nJR9h0ZVjaZj",
        "outputId": "4540ddc9-d7a3-49a3-e258-8edc097083c7"
      },
      "outputs": [
        {
          "data": {
            "text/html": [
              "<div>\n",
              "<style scoped>\n",
              "    .dataframe tbody tr th:only-of-type {\n",
              "        vertical-align: middle;\n",
              "    }\n",
              "\n",
              "    .dataframe tbody tr th {\n",
              "        vertical-align: top;\n",
              "    }\n",
              "\n",
              "    .dataframe thead th {\n",
              "        text-align: right;\n",
              "    }\n",
              "</style>\n",
              "<table border=\"1\" class=\"dataframe\">\n",
              "  <thead>\n",
              "    <tr style=\"text-align: right;\">\n",
              "      <th></th>\n",
              "      <th>No</th>\n",
              "      <th>year</th>\n",
              "      <th>month</th>\n",
              "      <th>day</th>\n",
              "      <th>hour</th>\n",
              "      <th>PM2.5</th>\n",
              "      <th>PM10</th>\n",
              "      <th>SO2</th>\n",
              "      <th>NO2</th>\n",
              "      <th>CO</th>\n",
              "      <th>O3</th>\n",
              "      <th>TEMP</th>\n",
              "      <th>PRES</th>\n",
              "      <th>DEWP</th>\n",
              "      <th>RAIN</th>\n",
              "      <th>WSPM</th>\n",
              "    </tr>\n",
              "  </thead>\n",
              "  <tbody>\n",
              "    <tr>\n",
              "      <th>count</th>\n",
              "      <td>35064.000000</td>\n",
              "      <td>35064.000000</td>\n",
              "      <td>35064.000000</td>\n",
              "      <td>35064.000000</td>\n",
              "      <td>35064.000000</td>\n",
              "      <td>34285.000000</td>\n",
              "      <td>34408.000000</td>\n",
              "      <td>34334.000000</td>\n",
              "      <td>33830.000000</td>\n",
              "      <td>33052.000000</td>\n",
              "      <td>33850.000000</td>\n",
              "      <td>35011.000000</td>\n",
              "      <td>35014.000000</td>\n",
              "      <td>35011.000000</td>\n",
              "      <td>35013.000000</td>\n",
              "      <td>35021.000000</td>\n",
              "    </tr>\n",
              "    <tr>\n",
              "      <th>mean</th>\n",
              "      <td>17532.500000</td>\n",
              "      <td>2014.662560</td>\n",
              "      <td>6.522930</td>\n",
              "      <td>15.729637</td>\n",
              "      <td>11.500000</td>\n",
              "      <td>65.989497</td>\n",
              "      <td>83.739723</td>\n",
              "      <td>11.749650</td>\n",
              "      <td>27.585467</td>\n",
              "      <td>904.896073</td>\n",
              "      <td>68.548371</td>\n",
              "      <td>13.686111</td>\n",
              "      <td>1007.760278</td>\n",
              "      <td>1.505495</td>\n",
              "      <td>0.060366</td>\n",
              "      <td>1.853836</td>\n",
              "    </tr>\n",
              "    <tr>\n",
              "      <th>std</th>\n",
              "      <td>10122.249256</td>\n",
              "      <td>1.177213</td>\n",
              "      <td>3.448752</td>\n",
              "      <td>8.800218</td>\n",
              "      <td>6.922285</td>\n",
              "      <td>72.267723</td>\n",
              "      <td>79.541685</td>\n",
              "      <td>15.519259</td>\n",
              "      <td>26.383882</td>\n",
              "      <td>903.306220</td>\n",
              "      <td>53.764424</td>\n",
              "      <td>11.365313</td>\n",
              "      <td>10.225664</td>\n",
              "      <td>13.822099</td>\n",
              "      <td>0.752899</td>\n",
              "      <td>1.309808</td>\n",
              "    </tr>\n",
              "    <tr>\n",
              "      <th>min</th>\n",
              "      <td>1.000000</td>\n",
              "      <td>2013.000000</td>\n",
              "      <td>1.000000</td>\n",
              "      <td>1.000000</td>\n",
              "      <td>0.000000</td>\n",
              "      <td>3.000000</td>\n",
              "      <td>2.000000</td>\n",
              "      <td>0.285600</td>\n",
              "      <td>1.026500</td>\n",
              "      <td>100.000000</td>\n",
              "      <td>0.214200</td>\n",
              "      <td>-16.600000</td>\n",
              "      <td>982.400000</td>\n",
              "      <td>-35.100000</td>\n",
              "      <td>0.000000</td>\n",
              "      <td>0.000000</td>\n",
              "    </tr>\n",
              "    <tr>\n",
              "      <th>25%</th>\n",
              "      <td>8766.750000</td>\n",
              "      <td>2014.000000</td>\n",
              "      <td>4.000000</td>\n",
              "      <td>8.000000</td>\n",
              "      <td>5.750000</td>\n",
              "      <td>14.000000</td>\n",
              "      <td>26.000000</td>\n",
              "      <td>2.000000</td>\n",
              "      <td>9.000000</td>\n",
              "      <td>300.000000</td>\n",
              "      <td>31.000000</td>\n",
              "      <td>3.400000</td>\n",
              "      <td>999.300000</td>\n",
              "      <td>-10.200000</td>\n",
              "      <td>0.000000</td>\n",
              "      <td>1.000000</td>\n",
              "    </tr>\n",
              "    <tr>\n",
              "      <th>50%</th>\n",
              "      <td>17532.500000</td>\n",
              "      <td>2015.000000</td>\n",
              "      <td>7.000000</td>\n",
              "      <td>16.000000</td>\n",
              "      <td>11.500000</td>\n",
              "      <td>41.000000</td>\n",
              "      <td>60.000000</td>\n",
              "      <td>5.000000</td>\n",
              "      <td>19.000000</td>\n",
              "      <td>600.000000</td>\n",
              "      <td>61.000000</td>\n",
              "      <td>14.700000</td>\n",
              "      <td>1007.400000</td>\n",
              "      <td>1.800000</td>\n",
              "      <td>0.000000</td>\n",
              "      <td>1.500000</td>\n",
              "    </tr>\n",
              "    <tr>\n",
              "      <th>75%</th>\n",
              "      <td>26298.250000</td>\n",
              "      <td>2016.000000</td>\n",
              "      <td>10.000000</td>\n",
              "      <td>23.000000</td>\n",
              "      <td>17.250000</td>\n",
              "      <td>93.000000</td>\n",
              "      <td>117.000000</td>\n",
              "      <td>15.000000</td>\n",
              "      <td>38.000000</td>\n",
              "      <td>1200.000000</td>\n",
              "      <td>90.000000</td>\n",
              "      <td>23.300000</td>\n",
              "      <td>1016.000000</td>\n",
              "      <td>14.200000</td>\n",
              "      <td>0.000000</td>\n",
              "      <td>2.300000</td>\n",
              "    </tr>\n",
              "    <tr>\n",
              "      <th>max</th>\n",
              "      <td>35064.000000</td>\n",
              "      <td>2017.000000</td>\n",
              "      <td>12.000000</td>\n",
              "      <td>31.000000</td>\n",
              "      <td>23.000000</td>\n",
              "      <td>881.000000</td>\n",
              "      <td>905.000000</td>\n",
              "      <td>156.000000</td>\n",
              "      <td>205.000000</td>\n",
              "      <td>10000.000000</td>\n",
              "      <td>500.000000</td>\n",
              "      <td>41.400000</td>\n",
              "      <td>1036.500000</td>\n",
              "      <td>27.200000</td>\n",
              "      <td>52.100000</td>\n",
              "      <td>10.000000</td>\n",
              "    </tr>\n",
              "  </tbody>\n",
              "</table>\n",
              "</div>"
            ],
            "text/plain": [
              "                 No          year         month           day          hour  \\\n",
              "count  35064.000000  35064.000000  35064.000000  35064.000000  35064.000000   \n",
              "mean   17532.500000   2014.662560      6.522930     15.729637     11.500000   \n",
              "std    10122.249256      1.177213      3.448752      8.800218      6.922285   \n",
              "min        1.000000   2013.000000      1.000000      1.000000      0.000000   \n",
              "25%     8766.750000   2014.000000      4.000000      8.000000      5.750000   \n",
              "50%    17532.500000   2015.000000      7.000000     16.000000     11.500000   \n",
              "75%    26298.250000   2016.000000     10.000000     23.000000     17.250000   \n",
              "max    35064.000000   2017.000000     12.000000     31.000000     23.000000   \n",
              "\n",
              "              PM2.5          PM10           SO2           NO2            CO  \\\n",
              "count  34285.000000  34408.000000  34334.000000  33830.000000  33052.000000   \n",
              "mean      65.989497     83.739723     11.749650     27.585467    904.896073   \n",
              "std       72.267723     79.541685     15.519259     26.383882    903.306220   \n",
              "min        3.000000      2.000000      0.285600      1.026500    100.000000   \n",
              "25%       14.000000     26.000000      2.000000      9.000000    300.000000   \n",
              "50%       41.000000     60.000000      5.000000     19.000000    600.000000   \n",
              "75%       93.000000    117.000000     15.000000     38.000000   1200.000000   \n",
              "max      881.000000    905.000000    156.000000    205.000000  10000.000000   \n",
              "\n",
              "                 O3          TEMP          PRES          DEWP          RAIN  \\\n",
              "count  33850.000000  35011.000000  35014.000000  35011.000000  35013.000000   \n",
              "mean      68.548371     13.686111   1007.760278      1.505495      0.060366   \n",
              "std       53.764424     11.365313     10.225664     13.822099      0.752899   \n",
              "min        0.214200    -16.600000    982.400000    -35.100000      0.000000   \n",
              "25%       31.000000      3.400000    999.300000    -10.200000      0.000000   \n",
              "50%       61.000000     14.700000   1007.400000      1.800000      0.000000   \n",
              "75%       90.000000     23.300000   1016.000000     14.200000      0.000000   \n",
              "max      500.000000     41.400000   1036.500000     27.200000     52.100000   \n",
              "\n",
              "               WSPM  \n",
              "count  35021.000000  \n",
              "mean       1.853836  \n",
              "std        1.309808  \n",
              "min        0.000000  \n",
              "25%        1.000000  \n",
              "50%        1.500000  \n",
              "75%        2.300000  \n",
              "max       10.000000  "
            ]
          },
          "execution_count": 12,
          "metadata": {},
          "output_type": "execute_result"
        }
      ],
      "source": [
        "# Cek statistik Data\n",
        "Data_Dingling_df.describe()"
      ]
    },
    {
      "cell_type": "markdown",
      "metadata": {
        "id": "EhN5R4hr8DC1"
      },
      "source": [
        "### Cleaning Data"
      ]
    },
    {
      "cell_type": "markdown",
      "metadata": {
        "id": "gaecTJDsvyWe"
      },
      "source": [
        "### Cleaning data Changping"
      ]
    },
    {
      "cell_type": "markdown",
      "metadata": {
        "id": "UYNLIP2kv-nq"
      },
      "source": [
        "#### Fix missing value"
      ]
    },
    {
      "cell_type": "code",
      "execution_count": 13,
      "metadata": {
        "colab": {
          "base_uri": "https://localhost:8080/",
          "height": 0
        },
        "id": "RaHQ7rsov85l",
        "outputId": "1a925706-503f-44b8-afa1-3068a114ba9f"
      },
      "outputs": [
        {
          "data": {
            "text/plain": [
              "No            0\n",
              "year          0\n",
              "month         0\n",
              "day           0\n",
              "hour          0\n",
              "PM2.5       774\n",
              "PM10        582\n",
              "SO2         628\n",
              "NO2         667\n",
              "CO         1521\n",
              "O3          604\n",
              "TEMP         53\n",
              "PRES         50\n",
              "DEWP         53\n",
              "RAIN         51\n",
              "wd          140\n",
              "WSPM         43\n",
              "station       0\n",
              "dtype: int64"
            ]
          },
          "execution_count": 13,
          "metadata": {},
          "output_type": "execute_result"
        }
      ],
      "source": [
        "# cek missing value\n",
        "Data_Changping_df.isna().sum()"
      ]
    },
    {
      "cell_type": "markdown",
      "metadata": {
        "id": "8PS8yEBcwMp3"
      },
      "source": [
        "Untuk menangai data yang hilang saya menggunakan metode imputation dimana saya akan mengisi data yang hilang dengan data di depan dan dibelakang.\n",
        "\n"
      ]
    },
    {
      "cell_type": "code",
      "execution_count": 14,
      "metadata": {
        "colab": {
          "base_uri": "https://localhost:8080/"
        },
        "id": "dWZvuaoWjaZk",
        "outputId": "dc085e4b-9427-4f48-91a8-59f8f3f30464"
      },
      "outputs": [
        {
          "name": "stderr",
          "output_type": "stream",
          "text": [
            "/var/folders/j2/qkfj_xy51b32c3l9kwp2d28w0000gn/T/ipykernel_12411/3855253005.py:1: FutureWarning: DataFrame.fillna with 'method' is deprecated and will raise in a future version. Use obj.ffill() or obj.bfill() instead.\n",
            "  Data_Changping_df = Data_Changping_df.fillna(method='ffill')  # Forward Fill (isi dengan nilai sebelumnya)\n",
            "/var/folders/j2/qkfj_xy51b32c3l9kwp2d28w0000gn/T/ipykernel_12411/3855253005.py:2: FutureWarning: DataFrame.fillna with 'method' is deprecated and will raise in a future version. Use obj.ffill() or obj.bfill() instead.\n",
            "  Data_Changping_df = Data_Changping_df.fillna(method='bfill')  # Backward Fill (isi dengan nilai setelahnya)\n"
          ]
        }
      ],
      "source": [
        "Data_Changping_df = Data_Changping_df.fillna(method='ffill')  # Forward Fill (isi dengan nilai sebelumnya)\n",
        "Data_Changping_df = Data_Changping_df.fillna(method='bfill')  # Backward Fill (isi dengan nilai setelahnya)"
      ]
    },
    {
      "cell_type": "code",
      "execution_count": 15,
      "metadata": {
        "colab": {
          "base_uri": "https://localhost:8080/",
          "height": 0
        },
        "id": "yz1b-MuqjaZk",
        "outputId": "497c36db-8383-4d63-d332-a0c6bc939f19"
      },
      "outputs": [
        {
          "data": {
            "text/plain": [
              "No         0\n",
              "year       0\n",
              "month      0\n",
              "day        0\n",
              "hour       0\n",
              "PM2.5      0\n",
              "PM10       0\n",
              "SO2        0\n",
              "NO2        0\n",
              "CO         0\n",
              "O3         0\n",
              "TEMP       0\n",
              "PRES       0\n",
              "DEWP       0\n",
              "RAIN       0\n",
              "wd         0\n",
              "WSPM       0\n",
              "station    0\n",
              "dtype: int64"
            ]
          },
          "execution_count": 15,
          "metadata": {},
          "output_type": "execute_result"
        }
      ],
      "source": [
        "Data_Changping_df.isna().sum()"
      ]
    },
    {
      "cell_type": "markdown",
      "metadata": {
        "id": "RpMFvtdcjaZk"
      },
      "source": [
        "Kesimpulan\n",
        "- Data sudah bersih dari missing value"
      ]
    },
    {
      "cell_type": "markdown",
      "metadata": {
        "id": "Nh4FCTn1v4eZ"
      },
      "source": [
        "### Cleaning data Dongling"
      ]
    },
    {
      "cell_type": "code",
      "execution_count": 16,
      "metadata": {
        "colab": {
          "base_uri": "https://localhost:8080/",
          "height": 0
        },
        "id": "KLrZRDoAjaZk",
        "outputId": "6a48e25e-1126-48f6-818a-0baf73b5e031"
      },
      "outputs": [
        {
          "data": {
            "text/plain": [
              "No            0\n",
              "year          0\n",
              "month         0\n",
              "day           0\n",
              "hour          0\n",
              "PM2.5       779\n",
              "PM10        656\n",
              "SO2         730\n",
              "NO2        1234\n",
              "CO         2012\n",
              "O3         1214\n",
              "TEMP         53\n",
              "PRES         50\n",
              "DEWP         53\n",
              "RAIN         51\n",
              "wd          140\n",
              "WSPM         43\n",
              "station       0\n",
              "dtype: int64"
            ]
          },
          "execution_count": 16,
          "metadata": {},
          "output_type": "execute_result"
        }
      ],
      "source": [
        "# cek mising value\n",
        "Data_Dingling_df.isna().sum()"
      ]
    },
    {
      "cell_type": "markdown",
      "metadata": {
        "id": "pSKpbdcBjaZl"
      },
      "source": [
        "Untuk menangani miising value pada data ini saya menggunakan imputation, data kosong akan diganti dengan data di depanya dan dibelakangnya."
      ]
    },
    {
      "cell_type": "code",
      "execution_count": 17,
      "metadata": {
        "colab": {
          "base_uri": "https://localhost:8080/"
        },
        "id": "H7hB_H0mjaZl",
        "outputId": "1fc15f02-2162-40ea-9285-236aa1ab38e1"
      },
      "outputs": [
        {
          "name": "stderr",
          "output_type": "stream",
          "text": [
            "/var/folders/j2/qkfj_xy51b32c3l9kwp2d28w0000gn/T/ipykernel_12411/2123493081.py:1: FutureWarning: DataFrame.fillna with 'method' is deprecated and will raise in a future version. Use obj.ffill() or obj.bfill() instead.\n",
            "  Data_Dingling_df = Data_Dingling_df.fillna(method='ffill')  # Forward Fill (isi dengan nilai sebelumnya)\n",
            "/var/folders/j2/qkfj_xy51b32c3l9kwp2d28w0000gn/T/ipykernel_12411/2123493081.py:2: FutureWarning: DataFrame.fillna with 'method' is deprecated and will raise in a future version. Use obj.ffill() or obj.bfill() instead.\n",
            "  Data_Dingling_df = Data_Dingling_df.fillna(method='bfill')  # Backward Fill (isi dengan nilai setelahnya)\n"
          ]
        }
      ],
      "source": [
        "Data_Dingling_df = Data_Dingling_df.fillna(method='ffill')  # Forward Fill (isi dengan nilai sebelumnya)\n",
        "Data_Dingling_df = Data_Dingling_df.fillna(method='bfill')  # Backward Fill (isi dengan nilai setelahnya)"
      ]
    },
    {
      "cell_type": "code",
      "execution_count": 18,
      "metadata": {
        "colab": {
          "base_uri": "https://localhost:8080/",
          "height": 0
        },
        "id": "zz-h9EUbjaZl",
        "outputId": "1bc12b3f-48de-45ca-bd44-3582d8a1f53b"
      },
      "outputs": [
        {
          "data": {
            "text/plain": [
              "No         0\n",
              "year       0\n",
              "month      0\n",
              "day        0\n",
              "hour       0\n",
              "PM2.5      0\n",
              "PM10       0\n",
              "SO2        0\n",
              "NO2        0\n",
              "CO         0\n",
              "O3         0\n",
              "TEMP       0\n",
              "PRES       0\n",
              "DEWP       0\n",
              "RAIN       0\n",
              "wd         0\n",
              "WSPM       0\n",
              "station    0\n",
              "dtype: int64"
            ]
          },
          "execution_count": 18,
          "metadata": {},
          "output_type": "execute_result"
        }
      ],
      "source": [
        "# cek hasil\n",
        "Data_Dingling_df.isna().sum()"
      ]
    },
    {
      "cell_type": "markdown",
      "metadata": {
        "id": "Fm6EQ2XqjaZl"
      },
      "source": [
        "Kesimpulan\n",
        "- Pembersihan data sudah berhasil, mising value sudah tidak ada."
      ]
    },
    {
      "cell_type": "markdown",
      "metadata": {
        "id": "gp-Y6wU38DC1"
      },
      "source": [
        "## Exploratory Data Analysis (EDA)"
      ]
    },
    {
      "cell_type": "markdown",
      "metadata": {
        "id": "MW7WF2kr8DC1"
      },
      "source": [
        "### Explore Data Changping"
      ]
    },
    {
      "cell_type": "code",
      "execution_count": 19,
      "metadata": {
        "colab": {
          "base_uri": "https://localhost:8080/",
          "height": 0
        },
        "id": "knGytaRcjaZm",
        "outputId": "b4a2100f-1c98-44b9-b12c-62ee30affa7b"
      },
      "outputs": [
        {
          "data": {
            "text/html": [
              "<div>\n",
              "<style scoped>\n",
              "    .dataframe tbody tr th:only-of-type {\n",
              "        vertical-align: middle;\n",
              "    }\n",
              "\n",
              "    .dataframe tbody tr th {\n",
              "        vertical-align: top;\n",
              "    }\n",
              "\n",
              "    .dataframe thead th {\n",
              "        text-align: right;\n",
              "    }\n",
              "</style>\n",
              "<table border=\"1\" class=\"dataframe\">\n",
              "  <thead>\n",
              "    <tr style=\"text-align: right;\">\n",
              "      <th></th>\n",
              "      <th>No</th>\n",
              "      <th>year</th>\n",
              "      <th>month</th>\n",
              "      <th>day</th>\n",
              "      <th>hour</th>\n",
              "      <th>PM2.5</th>\n",
              "      <th>PM10</th>\n",
              "      <th>SO2</th>\n",
              "      <th>NO2</th>\n",
              "      <th>CO</th>\n",
              "      <th>O3</th>\n",
              "      <th>TEMP</th>\n",
              "      <th>PRES</th>\n",
              "      <th>DEWP</th>\n",
              "      <th>RAIN</th>\n",
              "      <th>wd</th>\n",
              "      <th>WSPM</th>\n",
              "      <th>station</th>\n",
              "    </tr>\n",
              "  </thead>\n",
              "  <tbody>\n",
              "    <tr>\n",
              "      <th>0</th>\n",
              "      <td>1</td>\n",
              "      <td>2013</td>\n",
              "      <td>3</td>\n",
              "      <td>1</td>\n",
              "      <td>0</td>\n",
              "      <td>3.0</td>\n",
              "      <td>6.0</td>\n",
              "      <td>13.0</td>\n",
              "      <td>7.0</td>\n",
              "      <td>300.0</td>\n",
              "      <td>85.0</td>\n",
              "      <td>-2.3</td>\n",
              "      <td>1020.8</td>\n",
              "      <td>-19.7</td>\n",
              "      <td>0.0</td>\n",
              "      <td>E</td>\n",
              "      <td>0.5</td>\n",
              "      <td>Changping</td>\n",
              "    </tr>\n",
              "    <tr>\n",
              "      <th>1</th>\n",
              "      <td>2</td>\n",
              "      <td>2013</td>\n",
              "      <td>3</td>\n",
              "      <td>1</td>\n",
              "      <td>1</td>\n",
              "      <td>3.0</td>\n",
              "      <td>3.0</td>\n",
              "      <td>6.0</td>\n",
              "      <td>6.0</td>\n",
              "      <td>300.0</td>\n",
              "      <td>85.0</td>\n",
              "      <td>-2.5</td>\n",
              "      <td>1021.3</td>\n",
              "      <td>-19.0</td>\n",
              "      <td>0.0</td>\n",
              "      <td>ENE</td>\n",
              "      <td>0.7</td>\n",
              "      <td>Changping</td>\n",
              "    </tr>\n",
              "    <tr>\n",
              "      <th>2</th>\n",
              "      <td>3</td>\n",
              "      <td>2013</td>\n",
              "      <td>3</td>\n",
              "      <td>1</td>\n",
              "      <td>2</td>\n",
              "      <td>3.0</td>\n",
              "      <td>3.0</td>\n",
              "      <td>22.0</td>\n",
              "      <td>13.0</td>\n",
              "      <td>400.0</td>\n",
              "      <td>74.0</td>\n",
              "      <td>-3.0</td>\n",
              "      <td>1021.3</td>\n",
              "      <td>-19.9</td>\n",
              "      <td>0.0</td>\n",
              "      <td>ENE</td>\n",
              "      <td>0.2</td>\n",
              "      <td>Changping</td>\n",
              "    </tr>\n",
              "    <tr>\n",
              "      <th>3</th>\n",
              "      <td>4</td>\n",
              "      <td>2013</td>\n",
              "      <td>3</td>\n",
              "      <td>1</td>\n",
              "      <td>3</td>\n",
              "      <td>3.0</td>\n",
              "      <td>6.0</td>\n",
              "      <td>12.0</td>\n",
              "      <td>8.0</td>\n",
              "      <td>300.0</td>\n",
              "      <td>81.0</td>\n",
              "      <td>-3.6</td>\n",
              "      <td>1021.8</td>\n",
              "      <td>-19.1</td>\n",
              "      <td>0.0</td>\n",
              "      <td>NNE</td>\n",
              "      <td>1.0</td>\n",
              "      <td>Changping</td>\n",
              "    </tr>\n",
              "    <tr>\n",
              "      <th>4</th>\n",
              "      <td>5</td>\n",
              "      <td>2013</td>\n",
              "      <td>3</td>\n",
              "      <td>1</td>\n",
              "      <td>4</td>\n",
              "      <td>3.0</td>\n",
              "      <td>3.0</td>\n",
              "      <td>14.0</td>\n",
              "      <td>8.0</td>\n",
              "      <td>300.0</td>\n",
              "      <td>81.0</td>\n",
              "      <td>-3.5</td>\n",
              "      <td>1022.3</td>\n",
              "      <td>-19.4</td>\n",
              "      <td>0.0</td>\n",
              "      <td>N</td>\n",
              "      <td>2.1</td>\n",
              "      <td>Changping</td>\n",
              "    </tr>\n",
              "  </tbody>\n",
              "</table>\n",
              "</div>"
            ],
            "text/plain": [
              "   No  year  month  day  hour  PM2.5  PM10   SO2   NO2     CO    O3  TEMP  \\\n",
              "0   1  2013      3    1     0    3.0   6.0  13.0   7.0  300.0  85.0  -2.3   \n",
              "1   2  2013      3    1     1    3.0   3.0   6.0   6.0  300.0  85.0  -2.5   \n",
              "2   3  2013      3    1     2    3.0   3.0  22.0  13.0  400.0  74.0  -3.0   \n",
              "3   4  2013      3    1     3    3.0   6.0  12.0   8.0  300.0  81.0  -3.6   \n",
              "4   5  2013      3    1     4    3.0   3.0  14.0   8.0  300.0  81.0  -3.5   \n",
              "\n",
              "     PRES  DEWP  RAIN   wd  WSPM    station  \n",
              "0  1020.8 -19.7   0.0    E   0.5  Changping  \n",
              "1  1021.3 -19.0   0.0  ENE   0.7  Changping  \n",
              "2  1021.3 -19.9   0.0  ENE   0.2  Changping  \n",
              "3  1021.8 -19.1   0.0  NNE   1.0  Changping  \n",
              "4  1022.3 -19.4   0.0    N   2.1  Changping  "
            ]
          },
          "execution_count": 19,
          "metadata": {},
          "output_type": "execute_result"
        }
      ],
      "source": [
        "# cek data\n",
        "Data_Changping_df.head()"
      ]
    },
    {
      "cell_type": "code",
      "execution_count": 20,
      "metadata": {
        "colab": {
          "base_uri": "https://localhost:8080/",
          "height": 0
        },
        "id": "LxQ18ypEjaZn",
        "outputId": "21d12910-8d58-4dcd-8866-a0e6b95c00ee"
      },
      "outputs": [
        {
          "data": {
            "text/html": [
              "<div>\n",
              "<style scoped>\n",
              "    .dataframe tbody tr th:only-of-type {\n",
              "        vertical-align: middle;\n",
              "    }\n",
              "\n",
              "    .dataframe tbody tr th {\n",
              "        vertical-align: top;\n",
              "    }\n",
              "\n",
              "    .dataframe thead th {\n",
              "        text-align: right;\n",
              "    }\n",
              "</style>\n",
              "<table border=\"1\" class=\"dataframe\">\n",
              "  <thead>\n",
              "    <tr style=\"text-align: right;\">\n",
              "      <th></th>\n",
              "      <th>No</th>\n",
              "      <th>year</th>\n",
              "      <th>month</th>\n",
              "      <th>day</th>\n",
              "      <th>hour</th>\n",
              "      <th>PM2.5</th>\n",
              "      <th>PM10</th>\n",
              "      <th>SO2</th>\n",
              "      <th>NO2</th>\n",
              "      <th>CO</th>\n",
              "      <th>O3</th>\n",
              "      <th>TEMP</th>\n",
              "      <th>PRES</th>\n",
              "      <th>DEWP</th>\n",
              "      <th>RAIN</th>\n",
              "      <th>WSPM</th>\n",
              "    </tr>\n",
              "  </thead>\n",
              "  <tbody>\n",
              "    <tr>\n",
              "      <th>count</th>\n",
              "      <td>35064.000000</td>\n",
              "      <td>35064.000000</td>\n",
              "      <td>35064.000000</td>\n",
              "      <td>35064.000000</td>\n",
              "      <td>35064.000000</td>\n",
              "      <td>35064.000000</td>\n",
              "      <td>35064.000000</td>\n",
              "      <td>35064.000000</td>\n",
              "      <td>35064.000000</td>\n",
              "      <td>35064.000000</td>\n",
              "      <td>35064.000000</td>\n",
              "      <td>35064.000000</td>\n",
              "      <td>35064.000000</td>\n",
              "      <td>35064.000000</td>\n",
              "      <td>35064.000000</td>\n",
              "      <td>35064.000000</td>\n",
              "    </tr>\n",
              "    <tr>\n",
              "      <th>mean</th>\n",
              "      <td>17532.500000</td>\n",
              "      <td>2014.662560</td>\n",
              "      <td>6.522930</td>\n",
              "      <td>15.729637</td>\n",
              "      <td>11.500000</td>\n",
              "      <td>71.119444</td>\n",
              "      <td>94.794938</td>\n",
              "      <td>14.958394</td>\n",
              "      <td>44.240020</td>\n",
              "      <td>1160.041695</td>\n",
              "      <td>58.044104</td>\n",
              "      <td>13.670841</td>\n",
              "      <td>1007.771334</td>\n",
              "      <td>1.487161</td>\n",
              "      <td>0.060295</td>\n",
              "      <td>1.854067</td>\n",
              "    </tr>\n",
              "    <tr>\n",
              "      <th>std</th>\n",
              "      <td>10122.249256</td>\n",
              "      <td>1.177213</td>\n",
              "      <td>3.448752</td>\n",
              "      <td>8.800218</td>\n",
              "      <td>6.922285</td>\n",
              "      <td>72.424333</td>\n",
              "      <td>84.003198</td>\n",
              "      <td>21.100643</td>\n",
              "      <td>29.651504</td>\n",
              "      <td>1127.156726</td>\n",
              "      <td>54.431458</td>\n",
              "      <td>11.368584</td>\n",
              "      <td>10.226446</td>\n",
              "      <td>13.828724</td>\n",
              "      <td>0.752361</td>\n",
              "      <td>1.310207</td>\n",
              "    </tr>\n",
              "    <tr>\n",
              "      <th>min</th>\n",
              "      <td>1.000000</td>\n",
              "      <td>2013.000000</td>\n",
              "      <td>1.000000</td>\n",
              "      <td>1.000000</td>\n",
              "      <td>0.000000</td>\n",
              "      <td>2.000000</td>\n",
              "      <td>2.000000</td>\n",
              "      <td>0.285600</td>\n",
              "      <td>1.847700</td>\n",
              "      <td>100.000000</td>\n",
              "      <td>0.214200</td>\n",
              "      <td>-16.600000</td>\n",
              "      <td>982.400000</td>\n",
              "      <td>-35.100000</td>\n",
              "      <td>0.000000</td>\n",
              "      <td>0.000000</td>\n",
              "    </tr>\n",
              "    <tr>\n",
              "      <th>25%</th>\n",
              "      <td>8766.750000</td>\n",
              "      <td>2014.000000</td>\n",
              "      <td>4.000000</td>\n",
              "      <td>8.000000</td>\n",
              "      <td>5.750000</td>\n",
              "      <td>18.000000</td>\n",
              "      <td>34.000000</td>\n",
              "      <td>2.000000</td>\n",
              "      <td>22.000000</td>\n",
              "      <td>500.000000</td>\n",
              "      <td>15.797250</td>\n",
              "      <td>3.400000</td>\n",
              "      <td>999.300000</td>\n",
              "      <td>-10.300000</td>\n",
              "      <td>0.000000</td>\n",
              "      <td>1.000000</td>\n",
              "    </tr>\n",
              "    <tr>\n",
              "      <th>50%</th>\n",
              "      <td>17532.500000</td>\n",
              "      <td>2015.000000</td>\n",
              "      <td>7.000000</td>\n",
              "      <td>16.000000</td>\n",
              "      <td>11.500000</td>\n",
              "      <td>47.000000</td>\n",
              "      <td>72.000000</td>\n",
              "      <td>7.000000</td>\n",
              "      <td>36.000000</td>\n",
              "      <td>800.000000</td>\n",
              "      <td>46.000000</td>\n",
              "      <td>14.600000</td>\n",
              "      <td>1007.400000</td>\n",
              "      <td>1.700000</td>\n",
              "      <td>0.000000</td>\n",
              "      <td>1.500000</td>\n",
              "    </tr>\n",
              "    <tr>\n",
              "      <th>75%</th>\n",
              "      <td>26298.250000</td>\n",
              "      <td>2016.000000</td>\n",
              "      <td>10.000000</td>\n",
              "      <td>23.000000</td>\n",
              "      <td>17.250000</td>\n",
              "      <td>100.000000</td>\n",
              "      <td>130.000000</td>\n",
              "      <td>18.000000</td>\n",
              "      <td>61.000000</td>\n",
              "      <td>1400.000000</td>\n",
              "      <td>80.000000</td>\n",
              "      <td>23.300000</td>\n",
              "      <td>1016.000000</td>\n",
              "      <td>14.200000</td>\n",
              "      <td>0.000000</td>\n",
              "      <td>2.300000</td>\n",
              "    </tr>\n",
              "    <tr>\n",
              "      <th>max</th>\n",
              "      <td>35064.000000</td>\n",
              "      <td>2017.000000</td>\n",
              "      <td>12.000000</td>\n",
              "      <td>31.000000</td>\n",
              "      <td>23.000000</td>\n",
              "      <td>882.000000</td>\n",
              "      <td>999.000000</td>\n",
              "      <td>310.000000</td>\n",
              "      <td>226.000000</td>\n",
              "      <td>10000.000000</td>\n",
              "      <td>429.000000</td>\n",
              "      <td>41.400000</td>\n",
              "      <td>1036.500000</td>\n",
              "      <td>27.200000</td>\n",
              "      <td>52.100000</td>\n",
              "      <td>10.000000</td>\n",
              "    </tr>\n",
              "  </tbody>\n",
              "</table>\n",
              "</div>"
            ],
            "text/plain": [
              "                 No          year         month           day          hour  \\\n",
              "count  35064.000000  35064.000000  35064.000000  35064.000000  35064.000000   \n",
              "mean   17532.500000   2014.662560      6.522930     15.729637     11.500000   \n",
              "std    10122.249256      1.177213      3.448752      8.800218      6.922285   \n",
              "min        1.000000   2013.000000      1.000000      1.000000      0.000000   \n",
              "25%     8766.750000   2014.000000      4.000000      8.000000      5.750000   \n",
              "50%    17532.500000   2015.000000      7.000000     16.000000     11.500000   \n",
              "75%    26298.250000   2016.000000     10.000000     23.000000     17.250000   \n",
              "max    35064.000000   2017.000000     12.000000     31.000000     23.000000   \n",
              "\n",
              "              PM2.5          PM10           SO2           NO2            CO  \\\n",
              "count  35064.000000  35064.000000  35064.000000  35064.000000  35064.000000   \n",
              "mean      71.119444     94.794938     14.958394     44.240020   1160.041695   \n",
              "std       72.424333     84.003198     21.100643     29.651504   1127.156726   \n",
              "min        2.000000      2.000000      0.285600      1.847700    100.000000   \n",
              "25%       18.000000     34.000000      2.000000     22.000000    500.000000   \n",
              "50%       47.000000     72.000000      7.000000     36.000000    800.000000   \n",
              "75%      100.000000    130.000000     18.000000     61.000000   1400.000000   \n",
              "max      882.000000    999.000000    310.000000    226.000000  10000.000000   \n",
              "\n",
              "                 O3          TEMP          PRES          DEWP          RAIN  \\\n",
              "count  35064.000000  35064.000000  35064.000000  35064.000000  35064.000000   \n",
              "mean      58.044104     13.670841   1007.771334      1.487161      0.060295   \n",
              "std       54.431458     11.368584     10.226446     13.828724      0.752361   \n",
              "min        0.214200    -16.600000    982.400000    -35.100000      0.000000   \n",
              "25%       15.797250      3.400000    999.300000    -10.300000      0.000000   \n",
              "50%       46.000000     14.600000   1007.400000      1.700000      0.000000   \n",
              "75%       80.000000     23.300000   1016.000000     14.200000      0.000000   \n",
              "max      429.000000     41.400000   1036.500000     27.200000     52.100000   \n",
              "\n",
              "               WSPM  \n",
              "count  35064.000000  \n",
              "mean       1.854067  \n",
              "std        1.310207  \n",
              "min        0.000000  \n",
              "25%        1.000000  \n",
              "50%        1.500000  \n",
              "75%        2.300000  \n",
              "max       10.000000  "
            ]
          },
          "execution_count": 20,
          "metadata": {},
          "output_type": "execute_result"
        }
      ],
      "source": [
        "# cek statistik data\n",
        "Data_Changping_df.describe()"
      ]
    },
    {
      "cell_type": "markdown",
      "metadata": {
        "id": "P5rj1Po7jaZn"
      },
      "source": [
        "### Explore Data Dongling"
      ]
    },
    {
      "cell_type": "code",
      "execution_count": 21,
      "metadata": {
        "colab": {
          "base_uri": "https://localhost:8080/",
          "height": 0
        },
        "id": "uUdV5HZ0jaZo",
        "outputId": "b7822d52-b431-402d-c139-b182f51586a5"
      },
      "outputs": [
        {
          "data": {
            "text/html": [
              "<div>\n",
              "<style scoped>\n",
              "    .dataframe tbody tr th:only-of-type {\n",
              "        vertical-align: middle;\n",
              "    }\n",
              "\n",
              "    .dataframe tbody tr th {\n",
              "        vertical-align: top;\n",
              "    }\n",
              "\n",
              "    .dataframe thead th {\n",
              "        text-align: right;\n",
              "    }\n",
              "</style>\n",
              "<table border=\"1\" class=\"dataframe\">\n",
              "  <thead>\n",
              "    <tr style=\"text-align: right;\">\n",
              "      <th></th>\n",
              "      <th>No</th>\n",
              "      <th>year</th>\n",
              "      <th>month</th>\n",
              "      <th>day</th>\n",
              "      <th>hour</th>\n",
              "      <th>PM2.5</th>\n",
              "      <th>PM10</th>\n",
              "      <th>SO2</th>\n",
              "      <th>NO2</th>\n",
              "      <th>CO</th>\n",
              "      <th>O3</th>\n",
              "      <th>TEMP</th>\n",
              "      <th>PRES</th>\n",
              "      <th>DEWP</th>\n",
              "      <th>RAIN</th>\n",
              "      <th>wd</th>\n",
              "      <th>WSPM</th>\n",
              "      <th>station</th>\n",
              "    </tr>\n",
              "  </thead>\n",
              "  <tbody>\n",
              "    <tr>\n",
              "      <th>0</th>\n",
              "      <td>1</td>\n",
              "      <td>2013</td>\n",
              "      <td>3</td>\n",
              "      <td>1</td>\n",
              "      <td>0</td>\n",
              "      <td>4.0</td>\n",
              "      <td>4.0</td>\n",
              "      <td>3.0</td>\n",
              "      <td>2.0</td>\n",
              "      <td>200.0</td>\n",
              "      <td>82.0</td>\n",
              "      <td>-2.3</td>\n",
              "      <td>1020.8</td>\n",
              "      <td>-19.7</td>\n",
              "      <td>0.0</td>\n",
              "      <td>E</td>\n",
              "      <td>0.5</td>\n",
              "      <td>Dingling</td>\n",
              "    </tr>\n",
              "    <tr>\n",
              "      <th>1</th>\n",
              "      <td>2</td>\n",
              "      <td>2013</td>\n",
              "      <td>3</td>\n",
              "      <td>1</td>\n",
              "      <td>1</td>\n",
              "      <td>7.0</td>\n",
              "      <td>7.0</td>\n",
              "      <td>3.0</td>\n",
              "      <td>2.0</td>\n",
              "      <td>200.0</td>\n",
              "      <td>80.0</td>\n",
              "      <td>-2.5</td>\n",
              "      <td>1021.3</td>\n",
              "      <td>-19.0</td>\n",
              "      <td>0.0</td>\n",
              "      <td>ENE</td>\n",
              "      <td>0.7</td>\n",
              "      <td>Dingling</td>\n",
              "    </tr>\n",
              "    <tr>\n",
              "      <th>2</th>\n",
              "      <td>3</td>\n",
              "      <td>2013</td>\n",
              "      <td>3</td>\n",
              "      <td>1</td>\n",
              "      <td>2</td>\n",
              "      <td>5.0</td>\n",
              "      <td>5.0</td>\n",
              "      <td>3.0</td>\n",
              "      <td>2.0</td>\n",
              "      <td>200.0</td>\n",
              "      <td>79.0</td>\n",
              "      <td>-3.0</td>\n",
              "      <td>1021.3</td>\n",
              "      <td>-19.9</td>\n",
              "      <td>0.0</td>\n",
              "      <td>ENE</td>\n",
              "      <td>0.2</td>\n",
              "      <td>Dingling</td>\n",
              "    </tr>\n",
              "    <tr>\n",
              "      <th>3</th>\n",
              "      <td>4</td>\n",
              "      <td>2013</td>\n",
              "      <td>3</td>\n",
              "      <td>1</td>\n",
              "      <td>3</td>\n",
              "      <td>6.0</td>\n",
              "      <td>6.0</td>\n",
              "      <td>3.0</td>\n",
              "      <td>2.0</td>\n",
              "      <td>200.0</td>\n",
              "      <td>79.0</td>\n",
              "      <td>-3.6</td>\n",
              "      <td>1021.8</td>\n",
              "      <td>-19.1</td>\n",
              "      <td>0.0</td>\n",
              "      <td>NNE</td>\n",
              "      <td>1.0</td>\n",
              "      <td>Dingling</td>\n",
              "    </tr>\n",
              "    <tr>\n",
              "      <th>4</th>\n",
              "      <td>5</td>\n",
              "      <td>2013</td>\n",
              "      <td>3</td>\n",
              "      <td>1</td>\n",
              "      <td>4</td>\n",
              "      <td>5.0</td>\n",
              "      <td>5.0</td>\n",
              "      <td>3.0</td>\n",
              "      <td>2.0</td>\n",
              "      <td>200.0</td>\n",
              "      <td>81.0</td>\n",
              "      <td>-3.5</td>\n",
              "      <td>1022.3</td>\n",
              "      <td>-19.4</td>\n",
              "      <td>0.0</td>\n",
              "      <td>N</td>\n",
              "      <td>2.1</td>\n",
              "      <td>Dingling</td>\n",
              "    </tr>\n",
              "  </tbody>\n",
              "</table>\n",
              "</div>"
            ],
            "text/plain": [
              "   No  year  month  day  hour  PM2.5  PM10  SO2  NO2     CO    O3  TEMP  \\\n",
              "0   1  2013      3    1     0    4.0   4.0  3.0  2.0  200.0  82.0  -2.3   \n",
              "1   2  2013      3    1     1    7.0   7.0  3.0  2.0  200.0  80.0  -2.5   \n",
              "2   3  2013      3    1     2    5.0   5.0  3.0  2.0  200.0  79.0  -3.0   \n",
              "3   4  2013      3    1     3    6.0   6.0  3.0  2.0  200.0  79.0  -3.6   \n",
              "4   5  2013      3    1     4    5.0   5.0  3.0  2.0  200.0  81.0  -3.5   \n",
              "\n",
              "     PRES  DEWP  RAIN   wd  WSPM   station  \n",
              "0  1020.8 -19.7   0.0    E   0.5  Dingling  \n",
              "1  1021.3 -19.0   0.0  ENE   0.7  Dingling  \n",
              "2  1021.3 -19.9   0.0  ENE   0.2  Dingling  \n",
              "3  1021.8 -19.1   0.0  NNE   1.0  Dingling  \n",
              "4  1022.3 -19.4   0.0    N   2.1  Dingling  "
            ]
          },
          "execution_count": 21,
          "metadata": {},
          "output_type": "execute_result"
        }
      ],
      "source": [
        "# cek data\n",
        "Data_Dingling_df.head()"
      ]
    },
    {
      "cell_type": "code",
      "execution_count": 22,
      "metadata": {
        "colab": {
          "base_uri": "https://localhost:8080/",
          "height": 0
        },
        "id": "UwkNnDkijaZo",
        "outputId": "e08679dc-2ec2-4b69-82ce-6dc6ec9660a0"
      },
      "outputs": [
        {
          "data": {
            "text/html": [
              "<div>\n",
              "<style scoped>\n",
              "    .dataframe tbody tr th:only-of-type {\n",
              "        vertical-align: middle;\n",
              "    }\n",
              "\n",
              "    .dataframe tbody tr th {\n",
              "        vertical-align: top;\n",
              "    }\n",
              "\n",
              "    .dataframe thead th {\n",
              "        text-align: right;\n",
              "    }\n",
              "</style>\n",
              "<table border=\"1\" class=\"dataframe\">\n",
              "  <thead>\n",
              "    <tr style=\"text-align: right;\">\n",
              "      <th></th>\n",
              "      <th>No</th>\n",
              "      <th>year</th>\n",
              "      <th>month</th>\n",
              "      <th>day</th>\n",
              "      <th>hour</th>\n",
              "      <th>PM2.5</th>\n",
              "      <th>PM10</th>\n",
              "      <th>SO2</th>\n",
              "      <th>NO2</th>\n",
              "      <th>CO</th>\n",
              "      <th>O3</th>\n",
              "      <th>TEMP</th>\n",
              "      <th>PRES</th>\n",
              "      <th>DEWP</th>\n",
              "      <th>RAIN</th>\n",
              "      <th>WSPM</th>\n",
              "    </tr>\n",
              "  </thead>\n",
              "  <tbody>\n",
              "    <tr>\n",
              "      <th>count</th>\n",
              "      <td>35064.000000</td>\n",
              "      <td>35064.000000</td>\n",
              "      <td>35064.000000</td>\n",
              "      <td>35064.000000</td>\n",
              "      <td>35064.000000</td>\n",
              "      <td>35064.000000</td>\n",
              "      <td>35064.000000</td>\n",
              "      <td>35064.000000</td>\n",
              "      <td>35064.000000</td>\n",
              "      <td>35064.000000</td>\n",
              "      <td>35064.000000</td>\n",
              "      <td>35064.000000</td>\n",
              "      <td>35064.000000</td>\n",
              "      <td>35064.000000</td>\n",
              "      <td>35064.000000</td>\n",
              "      <td>35064.000000</td>\n",
              "    </tr>\n",
              "    <tr>\n",
              "      <th>mean</th>\n",
              "      <td>17532.500000</td>\n",
              "      <td>2014.662560</td>\n",
              "      <td>6.522930</td>\n",
              "      <td>15.729637</td>\n",
              "      <td>11.500000</td>\n",
              "      <td>67.429857</td>\n",
              "      <td>84.223714</td>\n",
              "      <td>11.772589</td>\n",
              "      <td>27.320346</td>\n",
              "      <td>924.755305</td>\n",
              "      <td>71.979154</td>\n",
              "      <td>13.670841</td>\n",
              "      <td>1007.771334</td>\n",
              "      <td>1.487161</td>\n",
              "      <td>0.060295</td>\n",
              "      <td>1.854067</td>\n",
              "    </tr>\n",
              "    <tr>\n",
              "      <th>std</th>\n",
              "      <td>10122.249256</td>\n",
              "      <td>1.177213</td>\n",
              "      <td>3.448752</td>\n",
              "      <td>8.800218</td>\n",
              "      <td>6.922285</td>\n",
              "      <td>74.819357</td>\n",
              "      <td>80.261646</td>\n",
              "      <td>15.578201</td>\n",
              "      <td>26.318141</td>\n",
              "      <td>897.861775</td>\n",
              "      <td>66.306684</td>\n",
              "      <td>11.368584</td>\n",
              "      <td>10.226446</td>\n",
              "      <td>13.828724</td>\n",
              "      <td>0.752361</td>\n",
              "      <td>1.310207</td>\n",
              "    </tr>\n",
              "    <tr>\n",
              "      <th>min</th>\n",
              "      <td>1.000000</td>\n",
              "      <td>2013.000000</td>\n",
              "      <td>1.000000</td>\n",
              "      <td>1.000000</td>\n",
              "      <td>0.000000</td>\n",
              "      <td>3.000000</td>\n",
              "      <td>2.000000</td>\n",
              "      <td>0.285600</td>\n",
              "      <td>1.026500</td>\n",
              "      <td>100.000000</td>\n",
              "      <td>0.214200</td>\n",
              "      <td>-16.600000</td>\n",
              "      <td>982.400000</td>\n",
              "      <td>-35.100000</td>\n",
              "      <td>0.000000</td>\n",
              "      <td>0.000000</td>\n",
              "    </tr>\n",
              "    <tr>\n",
              "      <th>25%</th>\n",
              "      <td>8766.750000</td>\n",
              "      <td>2014.000000</td>\n",
              "      <td>4.000000</td>\n",
              "      <td>8.000000</td>\n",
              "      <td>5.750000</td>\n",
              "      <td>14.000000</td>\n",
              "      <td>26.000000</td>\n",
              "      <td>2.000000</td>\n",
              "      <td>8.000000</td>\n",
              "      <td>300.000000</td>\n",
              "      <td>31.000000</td>\n",
              "      <td>3.400000</td>\n",
              "      <td>999.300000</td>\n",
              "      <td>-10.300000</td>\n",
              "      <td>0.000000</td>\n",
              "      <td>1.000000</td>\n",
              "    </tr>\n",
              "    <tr>\n",
              "      <th>50%</th>\n",
              "      <td>17532.500000</td>\n",
              "      <td>2015.000000</td>\n",
              "      <td>7.000000</td>\n",
              "      <td>16.000000</td>\n",
              "      <td>11.500000</td>\n",
              "      <td>41.000000</td>\n",
              "      <td>60.000000</td>\n",
              "      <td>5.000000</td>\n",
              "      <td>19.000000</td>\n",
              "      <td>600.000000</td>\n",
              "      <td>62.000000</td>\n",
              "      <td>14.600000</td>\n",
              "      <td>1007.400000</td>\n",
              "      <td>1.700000</td>\n",
              "      <td>0.000000</td>\n",
              "      <td>1.500000</td>\n",
              "    </tr>\n",
              "    <tr>\n",
              "      <th>75%</th>\n",
              "      <td>26298.250000</td>\n",
              "      <td>2016.000000</td>\n",
              "      <td>10.000000</td>\n",
              "      <td>23.000000</td>\n",
              "      <td>17.250000</td>\n",
              "      <td>95.000000</td>\n",
              "      <td>118.000000</td>\n",
              "      <td>14.351400</td>\n",
              "      <td>38.000000</td>\n",
              "      <td>1200.000000</td>\n",
              "      <td>91.000000</td>\n",
              "      <td>23.300000</td>\n",
              "      <td>1016.000000</td>\n",
              "      <td>14.200000</td>\n",
              "      <td>0.000000</td>\n",
              "      <td>2.300000</td>\n",
              "    </tr>\n",
              "    <tr>\n",
              "      <th>max</th>\n",
              "      <td>35064.000000</td>\n",
              "      <td>2017.000000</td>\n",
              "      <td>12.000000</td>\n",
              "      <td>31.000000</td>\n",
              "      <td>23.000000</td>\n",
              "      <td>881.000000</td>\n",
              "      <td>905.000000</td>\n",
              "      <td>156.000000</td>\n",
              "      <td>205.000000</td>\n",
              "      <td>10000.000000</td>\n",
              "      <td>500.000000</td>\n",
              "      <td>41.400000</td>\n",
              "      <td>1036.500000</td>\n",
              "      <td>27.200000</td>\n",
              "      <td>52.100000</td>\n",
              "      <td>10.000000</td>\n",
              "    </tr>\n",
              "  </tbody>\n",
              "</table>\n",
              "</div>"
            ],
            "text/plain": [
              "                 No          year         month           day          hour  \\\n",
              "count  35064.000000  35064.000000  35064.000000  35064.000000  35064.000000   \n",
              "mean   17532.500000   2014.662560      6.522930     15.729637     11.500000   \n",
              "std    10122.249256      1.177213      3.448752      8.800218      6.922285   \n",
              "min        1.000000   2013.000000      1.000000      1.000000      0.000000   \n",
              "25%     8766.750000   2014.000000      4.000000      8.000000      5.750000   \n",
              "50%    17532.500000   2015.000000      7.000000     16.000000     11.500000   \n",
              "75%    26298.250000   2016.000000     10.000000     23.000000     17.250000   \n",
              "max    35064.000000   2017.000000     12.000000     31.000000     23.000000   \n",
              "\n",
              "              PM2.5          PM10           SO2           NO2            CO  \\\n",
              "count  35064.000000  35064.000000  35064.000000  35064.000000  35064.000000   \n",
              "mean      67.429857     84.223714     11.772589     27.320346    924.755305   \n",
              "std       74.819357     80.261646     15.578201     26.318141    897.861775   \n",
              "min        3.000000      2.000000      0.285600      1.026500    100.000000   \n",
              "25%       14.000000     26.000000      2.000000      8.000000    300.000000   \n",
              "50%       41.000000     60.000000      5.000000     19.000000    600.000000   \n",
              "75%       95.000000    118.000000     14.351400     38.000000   1200.000000   \n",
              "max      881.000000    905.000000    156.000000    205.000000  10000.000000   \n",
              "\n",
              "                 O3          TEMP          PRES          DEWP          RAIN  \\\n",
              "count  35064.000000  35064.000000  35064.000000  35064.000000  35064.000000   \n",
              "mean      71.979154     13.670841   1007.771334      1.487161      0.060295   \n",
              "std       66.306684     11.368584     10.226446     13.828724      0.752361   \n",
              "min        0.214200    -16.600000    982.400000    -35.100000      0.000000   \n",
              "25%       31.000000      3.400000    999.300000    -10.300000      0.000000   \n",
              "50%       62.000000     14.600000   1007.400000      1.700000      0.000000   \n",
              "75%       91.000000     23.300000   1016.000000     14.200000      0.000000   \n",
              "max      500.000000     41.400000   1036.500000     27.200000     52.100000   \n",
              "\n",
              "               WSPM  \n",
              "count  35064.000000  \n",
              "mean       1.854067  \n",
              "std        1.310207  \n",
              "min        0.000000  \n",
              "25%        1.000000  \n",
              "50%        1.500000  \n",
              "75%        2.300000  \n",
              "max       10.000000  "
            ]
          },
          "execution_count": 22,
          "metadata": {},
          "output_type": "execute_result"
        }
      ],
      "source": [
        "# cek statitik data\n",
        "Data_Dingling_df.describe()"
      ]
    },
    {
      "cell_type": "markdown",
      "metadata": {
        "id": "BEAoIMEVjaZo"
      },
      "source": [
        "### Mencari kota dengan kualitas udara terbaik dan terburuk"
      ]
    },
    {
      "cell_type": "markdown",
      "metadata": {
        "id": "TDqdsSqvjaZo"
      },
      "source": [
        "Metode untuk menentukan kota dengan kualitas udara terbaik dan terburuk dilakukan dengan mencari nilai polutan tertinggi dari semua jenis polutan (PM2.5, PM10, SO2, NO2, CO, dan O3) di setiap kota. Nilai tertinggi tersebut digunakan untuk memperkirakan AQI (Air Quality Index) di masing-masing kota. Kota dengan nilai AQI tertinggi dianggap memiliki kualitas udara paling buruk sedangkan kota dengan nilai AQI terendah memiliki kualitas udara terbaik."
      ]
    },
    {
      "cell_type": "code",
      "execution_count": 23,
      "metadata": {
        "colab": {
          "base_uri": "https://localhost:8080/"
        },
        "id": "hmIvAOdojaZo",
        "outputId": "ead7d151-726e-4519-855e-29ec973a6b74"
      },
      "outputs": [
        {
          "name": "stdout",
          "output_type": "stream",
          "text": [
            "   No  year  month  day  hour  PM2.5  PM10   SO2   NO2     CO    O3  TEMP  \\\n",
            "0   1  2013      3    1     0    3.0   6.0  13.0   7.0  300.0  85.0  -2.3   \n",
            "1   2  2013      3    1     1    3.0   3.0   6.0   6.0  300.0  85.0  -2.5   \n",
            "2   3  2013      3    1     2    3.0   3.0  22.0  13.0  400.0  74.0  -3.0   \n",
            "3   4  2013      3    1     3    3.0   6.0  12.0   8.0  300.0  81.0  -3.6   \n",
            "4   5  2013      3    1     4    3.0   3.0  14.0   8.0  300.0  81.0  -3.5   \n",
            "\n",
            "     PRES  DEWP  RAIN   wd  WSPM    station  \n",
            "0  1020.8 -19.7   0.0    E   0.5  Changping  \n",
            "1  1021.3 -19.0   0.0  ENE   0.7  Changping  \n",
            "2  1021.3 -19.9   0.0  ENE   0.2  Changping  \n",
            "3  1021.8 -19.1   0.0  NNE   1.0  Changping  \n",
            "4  1022.3 -19.4   0.0    N   2.1  Changping  \n"
          ]
        }
      ],
      "source": [
        "# Gabungkan data\n",
        "air_quality = pd.concat([Data_Changping_df, Data_Dingling_df], ignore_index=True)\n",
        "\n",
        "# Cek hasil\n",
        "print(air_quality.head())"
      ]
    },
    {
      "cell_type": "code",
      "execution_count": 24,
      "metadata": {
        "colab": {
          "base_uri": "https://localhost:8080/"
        },
        "id": "UnEZ_NvtjaZp",
        "outputId": "005d326f-e591-4019-a0f7-2eb9c6ba34a9"
      },
      "outputs": [
        {
          "name": "stdout",
          "output_type": "stream",
          "text": [
            "station\n",
            "Changping    35064\n",
            "Dingling     35064\n",
            "Name: count, dtype: int64\n"
          ]
        }
      ],
      "source": [
        "# cek jumlah data per station\n",
        "print(air_quality[\"station\"].value_counts())"
      ]
    },
    {
      "cell_type": "code",
      "execution_count": 25,
      "metadata": {
        "colab": {
          "base_uri": "https://localhost:8080/"
        },
        "id": "vLXFJ6UojaZp",
        "outputId": "99b1e6f6-4b0c-4f18-cfd9-7220ff175a0e"
      },
      "outputs": [
        {
          "name": "stdout",
          "output_type": "stream",
          "text": [
            "     station          AQI\n",
            "1   Dingling   926.092345\n",
            "0  Changping  1160.718144\n"
          ]
        }
      ],
      "source": [
        "# membuat Air Quality Index\n",
        "\n",
        "# ambil nilai tertinggi tiap polutan\n",
        "air_quality[\"AQI\"] = air_quality[[\"PM2.5\", \"PM10\", \"SO2\", \"NO2\", \"CO\", \"O3\"]].max(axis=1)\n",
        "\n",
        "# hitung rata-rata AQI\n",
        "AQI = air_quality.groupby(\"station\")[\"AQI\"].mean().reset_index()\n",
        "\n",
        "# Urutkan berdasarkan AQI terbaik ke terburuk\n",
        "AQI = AQI.sort_values(by=\"AQI\", ascending=True)\n",
        "\n",
        "# Tampilkan hasil\n",
        "print(AQI)"
      ]
    },
    {
      "cell_type": "code",
      "execution_count": 26,
      "metadata": {
        "colab": {
          "base_uri": "https://localhost:8080/"
        },
        "id": "zvCd3BvDjaZp",
        "outputId": "48103513-78ef-4511-c58f-6b975542a179"
      },
      "outputs": [
        {
          "name": "stdout",
          "output_type": "stream",
          "text": [
            "Kesimpulan Jadi Kota dengan kualitas udara terbaik: Dingling dengan AQI 926.0923454255077\n",
            "kesimpulan Jadi Kota dengan kualitas udara terburuk: Changping dengan AQI 1160.7181439653205\n"
          ]
        }
      ],
      "source": [
        "# Kota dengan kualitas udara terbaik (AQI terendah)\n",
        "best_city = AQI.iloc[0]\n",
        "print(f\"Kesimpulan Jadi Kota dengan kualitas udara terbaik: {best_city['station']} dengan AQI {best_city['AQI']}\")\n",
        "\n",
        "# Kota dengan kualitas udara terburuk (AQI tertinggi)\n",
        "worst_city = AQI.iloc[-1]\n",
        "print(f\"kesimpulan Jadi Kota dengan kualitas udara terburuk: {worst_city['station']} dengan AQI {worst_city['AQI']}\")\n"
      ]
    },
    {
      "cell_type": "markdown",
      "metadata": {
        "id": "B_vKmHkSjaZp"
      },
      "source": [
        "### Mencari Polutan yang paling sering muncul di kota changping dan dongling"
      ]
    },
    {
      "cell_type": "markdown",
      "metadata": {
        "id": "EtZQFDz5jaZp"
      },
      "source": [
        "#### Polutan Kota Changping"
      ]
    },
    {
      "cell_type": "code",
      "execution_count": 27,
      "metadata": {
        "colab": {
          "base_uri": "https://localhost:8080/"
        },
        "id": "Zlrsk-mMjaZq",
        "outputId": "d3fcd35a-ec1b-45f5-b52c-aefbccfc3233"
      },
      "outputs": [
        {
          "name": "stdout",
          "output_type": "stream",
          "text": [
            "PM2.5      71.119444\n",
            "PM10       94.794938\n",
            "SO2        14.958394\n",
            "NO2        44.240020\n",
            "CO       1160.041695\n",
            "O3         58.044104\n",
            "dtype: float64\n"
          ]
        }
      ],
      "source": [
        "# Pilih kolom polutan\n",
        "polutan_kolom = [\"PM2.5\", \"PM10\", \"SO2\", \"NO2\", \"CO\", \"O3\"]\n",
        "\n",
        "# Hitung rata-rata setiap polutan di Changping\n",
        "changping_pollutants = Data_Changping_df[polutan_kolom].mean()\n",
        "print(changping_pollutants)"
      ]
    },
    {
      "cell_type": "markdown",
      "metadata": {
        "id": "VjP5yRmXjaZq"
      },
      "source": [
        "#### Polutan Kota Dongling"
      ]
    },
    {
      "cell_type": "code",
      "execution_count": 28,
      "metadata": {
        "colab": {
          "base_uri": "https://localhost:8080/"
        },
        "id": "J3BVLoX-jaZq",
        "outputId": "ba9c643b-a5a2-4ae8-d15a-bc736c1b1338"
      },
      "outputs": [
        {
          "name": "stdout",
          "output_type": "stream",
          "text": [
            "PM2.5     67.429857\n",
            "PM10      84.223714\n",
            "SO2       11.772589\n",
            "NO2       27.320346\n",
            "CO       924.755305\n",
            "O3        71.979154\n",
            "dtype: float64\n"
          ]
        }
      ],
      "source": [
        "# Pilih hanya kolom polutan\n",
        "polutan_kolom = [\"PM2.5\", \"PM10\", \"SO2\", \"NO2\", \"CO\", \"O3\"]\n",
        "\n",
        "# Hitung rata-rata setiap polutan di Changping\n",
        "dongling_pollutants = Data_Dingling_df[polutan_kolom].mean()\n",
        "print(dongling_pollutants)\n"
      ]
    },
    {
      "cell_type": "markdown",
      "metadata": {
        "id": "SpGgA99BjaZq"
      },
      "source": [
        "#### Polutan Kota Changping Dan Dongling"
      ]
    },
    {
      "cell_type": "code",
      "execution_count": 29,
      "metadata": {
        "colab": {
          "base_uri": "https://localhost:8080/"
        },
        "id": "uqfEJjzdjaZq",
        "outputId": "520f53df-e013-47ab-cd2d-5786c725c536"
      },
      "outputs": [
        {
          "name": "stdout",
          "output_type": "stream",
          "text": [
            "station\n",
            "Changping    CO\n",
            "Dingling     CO\n",
            "dtype: object\n"
          ]
        }
      ],
      "source": [
        "# Konversi kolom polutan ke tipe numerik (jika ada nilai non-numerik akan dikonversi menjadi NaN)\n",
        "polutan_kolom = [\"PM2.5\", \"PM10\", \"SO2\", \"NO2\", \"CO\", \"O3\"]\n",
        "air_quality[polutan_kolom] = air_quality[polutan_kolom].apply(pd.to_numeric, errors='coerce')\n",
        "\n",
        "# Kelompokkan berdasarkan kota dan hitung rata-rata setiap polutan\n",
        "total_polutan = air_quality.groupby(\"station\")[polutan_kolom].mean()\n",
        "\n",
        "# Menentukan polutan tertinggi di setiap kota\n",
        "dominan_polutan = total_polutan.idxmax(axis=1)\n",
        "\n",
        "# Menampilkan hasil\n",
        "print(dominan_polutan)"
      ]
    },
    {
      "cell_type": "markdown",
      "metadata": {
        "id": "zsyZjqak8DC2"
      },
      "source": [
        "## Visualization & Explanatory Analysis"
      ]
    },
    {
      "cell_type": "markdown",
      "metadata": {
        "id": "HZxOiQ6n8DC2"
      },
      "source": [
        "### Pertanyaan 1: Kota mana yang memiliki kualitas udara terbaik dan terburuk berdasarkan data yang tersedia?"
      ]
    },
    {
      "cell_type": "code",
      "execution_count": 30,
      "metadata": {
        "colab": {
          "base_uri": "https://localhost:8080/",
          "height": 0
        },
        "id": "1swJUdAD8DC2",
        "outputId": "e5757d7d-4b66-47bd-b10d-b93a231feb5c"
      },
      "outputs": [
        {
          "data": {
            "image/png": "[encoded data removed]",
            "text/plain": [
              "<Figure size 800x500 with 1 Axes>"
            ]
          },
          "metadata": {},
          "output_type": "display_data"
        }
      ],
      "source": [
        "# Data untuk plot\n",
        "kota = [best_city[\"station\"], worst_city[\"station\"]]\n",
        "aqi_values = [best_city[\"AQI\"], worst_city[\"AQI\"]]\n",
        "\n",
        "# Set Biru = terbaik, Oranye = terburuk\n",
        "colors = [\"blue\", \"orange\"]\n",
        "\n",
        "# Plot kota terbaik dan terburuk kualitas udaranya\n",
        "plt.figure(figsize=(8, 5))\n",
        "plt.barh(kota, aqi_values, color=colors)\n",
        "plt.ylabel(\"Kota\")\n",
        "plt.xlabel(\"AQI\")\n",
        "plt.title(\"Kota dengan Kualitas Udara Terbaik & Terburuk\")\n",
        "blue_patch = mpatches.Patch(color=\"blue\", label=\"Udara baik\")\n",
        "orange_patch = mpatches.Patch(color=\"orange\", label=\"Udara buruk\")\n",
        "plt.legend(handles=[blue_patch, orange_patch], loc=\"lower right\")\n",
        "plt.show()"
      ]
    },
    {
      "cell_type": "markdown",
      "metadata": {
        "id": "DgHI7CiU8DC2"
      },
      "source": [
        "### Pertanyaan 2: Polutan apa yang paling dominan di kota Changping dan Dongling?"
      ]
    },
    {
      "cell_type": "code",
      "execution_count": 31,
      "metadata": {
        "colab": {
          "base_uri": "https://localhost:8080/",
          "height": 0
        },
        "id": "82dqDpgjjaZr",
        "outputId": "3fe18381-97da-4407-b448-325bfc66f4e2"
      },
      "outputs": [
        {
          "data": {
            "image/png": "[encoded data removed]",
            "text/plain": [
              "<Figure size 800x500 with 1 Axes>"
            ]
          },
          "metadata": {},
          "output_type": "display_data"
        }
      ],
      "source": [
        "# Visualisasi Polutan tertinggi atau sering muncul di kota Changping\n",
        "plt.figure(figsize=(8, 5))\n",
        "changping_pollutants.plot(kind=\"bar\", color=\"blue\")\n",
        "plt.xlabel(\"Jenis Polutan\")\n",
        "plt.ylabel(\"Konsentrasi Rata-rata\")\n",
        "plt.title(\"Polutan Tertinggi di Changping\")\n",
        "plt.xticks(rotation=45)\n",
        "plt.grid(axis=\"y\", linestyle=\"--\", alpha=0.7)\n",
        "plt.show()\n"
      ]
    },
    {
      "cell_type": "code",
      "execution_count": 32,
      "metadata": {
        "colab": {
          "base_uri": "https://localhost:8080/",
          "height": 0
        },
        "id": "Ee74BUMEjaZs",
        "outputId": "698c5756-85bc-47d1-8f29-2284d130c16b"
      },
      "outputs": [
        {
          "data": {
            "image/png": "[encoded data removed]",
            "text/plain": [
              "<Figure size 800x500 with 1 Axes>"
            ]
          },
          "metadata": {},
          "output_type": "display_data"
        }
      ],
      "source": [
        "# Visualisasi Polutan tertinggi atau sering muncul di kota Dongling\n",
        "plt.figure(figsize=(8, 5))\n",
        "dongling_pollutants.plot(kind=\"bar\", color=\"blue\")\n",
        "plt.xlabel(\"Jenis Polutan\")\n",
        "plt.ylabel(\"Konsentrasi Rata-rata\")\n",
        "plt.title(\"Polutan Tertinggi di Dongling\")\n",
        "plt.xticks(rotation=45)\n",
        "plt.grid(axis=\"y\", linestyle=\"--\", alpha=0.7)\n",
        "plt.show()"
      ]
    },
    {
      "cell_type": "code",
      "execution_count": 33,
      "metadata": {
        "colab": {
          "base_uri": "https://localhost:8080/",
          "height": 0
        },
        "id": "lftCtd6WjaZs",
        "outputId": "c437cff0-7e7e-4b43-9c52-5134f66a6701"
      },
      "outputs": [
        {
          "data": {
            "image/png": "[encoded data removed]",
            "text/plain": [
              "<Figure size 1200x600 with 2 Axes>"
            ]
          },
          "metadata": {},
          "output_type": "display_data"
        }
      ],
      "source": [
        "# Visualisasi distribusi polutan tiap kota\n",
        "plt.figure(figsize=(12, 6))\n",
        "sns.heatmap(total_polutan, cmap=\"coolwarm\", annot=True, fmt=\".2f\", linewidths=0.5)\n",
        "plt.title(\"Polutan Paling Sering Muncul di Setiap Kota\")\n",
        "plt.xlabel(\"Jenis Polutan\")\n",
        "plt.ylabel(\"Kota\")\n",
        "plt.show()"
      ]
    },
    {
      "cell_type": "markdown",
      "metadata": {
        "id": "9y4VUsmcYNZ5"
      },
      "source": [
        "## Analisis Lanjutan (Opsional)"
      ]
    },
    {
      "cell_type": "markdown",
      "metadata": {
        "id": "_WeHlCeX8DC2"
      },
      "source": [
        "## Conclusion"
      ]
    },
    {
      "cell_type": "markdown",
      "metadata": {
        "id": "zKL8JBW4jaZs"
      },
      "source": [
        "#### Conclution pertanyaan 1 Kota mana yang memiliki kualitas udara terbaik dan terburuk berdasarkan data yang tersedia?"
      ]
    },
    {
      "cell_type": "markdown",
      "metadata": {
        "id": "EqNOTKQ6jaZs"
      },
      "source": [
        "Berdasarkan hasil analisa dan juga visualisasi grafik, kota Dingling memiliki kualitas udara terbaik dengan nilai AQI yang lebih rendah, menunjukkan udara yang lebih bersih dan sehat untuk dihuni. Sebaliknya kota Changping memiliki kualitas udara terburuk dengan nilai AQI yang lebih tinggi yang mengindikasikan tingkat polusi yang lebih tinggi karena jumlah polutanya banyak. Perbedaan ini menunjukkan bahwa faktor banyaknya polutan itu mempengaruhi kulitas udara kota."
      ]
    },
    {
      "cell_type": "markdown",
      "metadata": {
        "id": "lUVoTlbkjaZt"
      },
      "source": [
        "#### Conclution pertanyaan 2 Polutan apa yang paling dominan di kota Changping dan Dongling?"
      ]
    },
    {
      "cell_type": "markdown",
      "metadata": {
        "id": "pRtdytO6jaZt"
      },
      "source": [
        "Berdasarkan analisis data dan juga visualisasi grafik, polutan yang paling dominan di Changping adalah CO (Karbon Monoksida) dengan konsentrasi tertinggi sebesar 1160.04. Sementara itu, di Dingling polutan yang paling dominan juga adalah CO (Karbon Monoksida) dengan konsentrasi 924.76. Hal ini menunjukkan bahwa CO merupakan polutan yang paling banyak ditemukan di kedua kota tersebut."
      ]
    },
    {
      "cell_type": "code",
      "execution_count": 34,
      "metadata": {
        "id": "xu53D3yIj5SQ"
      },
      "outputs": [],
      "source": [
        "air_quality.to_csv(\"main_data.csv\", index=False)"
      ]
    },
    {
      "cell_type": "code",
      "execution_count": 33,
      "metadata": {
        "colab": {
          "base_uri": "https://localhost:8080/",
          "height": 206
        },
        "id": "NiMggBwAkFat",
        "outputId": "ff1b8cc8-9ad0-4787-ecb2-312407880901"
      },
      "outputs": [
        {
          "data": {
            "text/html": [
              "<div>\n",
              "<style scoped>\n",
              "    .dataframe tbody tr th:only-of-type {\n",
              "        vertical-align: middle;\n",
              "    }\n",
              "\n",
              "    .dataframe tbody tr th {\n",
              "        vertical-align: top;\n",
              "    }\n",
              "\n",
              "    .dataframe thead th {\n",
              "        text-align: right;\n",
              "    }\n",
              "</style>\n",
              "<table border=\"1\" class=\"dataframe\">\n",
              "  <thead>\n",
              "    <tr style=\"text-align: right;\">\n",
              "      <th></th>\n",
              "      <th>No</th>\n",
              "      <th>year</th>\n",
              "      <th>month</th>\n",
              "      <th>day</th>\n",
              "      <th>hour</th>\n",
              "      <th>PM2.5</th>\n",
              "      <th>PM10</th>\n",
              "      <th>SO2</th>\n",
              "      <th>NO2</th>\n",
              "      <th>CO</th>\n",
              "      <th>O3</th>\n",
              "      <th>TEMP</th>\n",
              "      <th>PRES</th>\n",
              "      <th>DEWP</th>\n",
              "      <th>RAIN</th>\n",
              "      <th>wd</th>\n",
              "      <th>WSPM</th>\n",
              "      <th>station</th>\n",
              "      <th>AQI</th>\n",
              "    </tr>\n",
              "  </thead>\n",
              "  <tbody>\n",
              "    <tr>\n",
              "      <th>0</th>\n",
              "      <td>1</td>\n",
              "      <td>2013</td>\n",
              "      <td>3</td>\n",
              "      <td>1</td>\n",
              "      <td>0</td>\n",
              "      <td>3.0</td>\n",
              "      <td>6.0</td>\n",
              "      <td>13.0</td>\n",
              "      <td>7.0</td>\n",
              "      <td>300.0</td>\n",
              "      <td>85.0</td>\n",
              "      <td>-2.3</td>\n",
              "      <td>1020.8</td>\n",
              "      <td>-19.7</td>\n",
              "      <td>0.0</td>\n",
              "      <td>E</td>\n",
              "      <td>0.5</td>\n",
              "      <td>Changping</td>\n",
              "      <td>300.0</td>\n",
              "    </tr>\n",
              "    <tr>\n",
              "      <th>1</th>\n",
              "      <td>2</td>\n",
              "      <td>2013</td>\n",
              "      <td>3</td>\n",
              "      <td>1</td>\n",
              "      <td>1</td>\n",
              "      <td>3.0</td>\n",
              "      <td>3.0</td>\n",
              "      <td>6.0</td>\n",
              "      <td>6.0</td>\n",
              "      <td>300.0</td>\n",
              "      <td>85.0</td>\n",
              "      <td>-2.5</td>\n",
              "      <td>1021.3</td>\n",
              "      <td>-19.0</td>\n",
              "      <td>0.0</td>\n",
              "      <td>ENE</td>\n",
              "      <td>0.7</td>\n",
              "      <td>Changping</td>\n",
              "      <td>300.0</td>\n",
              "    </tr>\n",
              "    <tr>\n",
              "      <th>2</th>\n",
              "      <td>3</td>\n",
              "      <td>2013</td>\n",
              "      <td>3</td>\n",
              "      <td>1</td>\n",
              "      <td>2</td>\n",
              "      <td>3.0</td>\n",
              "      <td>3.0</td>\n",
              "      <td>22.0</td>\n",
              "      <td>13.0</td>\n",
              "      <td>400.0</td>\n",
              "      <td>74.0</td>\n",
              "      <td>-3.0</td>\n",
              "      <td>1021.3</td>\n",
              "      <td>-19.9</td>\n",
              "      <td>0.0</td>\n",
              "      <td>ENE</td>\n",
              "      <td>0.2</td>\n",
              "      <td>Changping</td>\n",
              "      <td>400.0</td>\n",
              "    </tr>\n",
              "    <tr>\n",
              "      <th>3</th>\n",
              "      <td>4</td>\n",
              "      <td>2013</td>\n",
              "      <td>3</td>\n",
              "      <td>1</td>\n",
              "      <td>3</td>\n",
              "      <td>3.0</td>\n",
              "      <td>6.0</td>\n",
              "      <td>12.0</td>\n",
              "      <td>8.0</td>\n",
              "      <td>300.0</td>\n",
              "      <td>81.0</td>\n",
              "      <td>-3.6</td>\n",
              "      <td>1021.8</td>\n",
              "      <td>-19.1</td>\n",
              "      <td>0.0</td>\n",
              "      <td>NNE</td>\n",
              "      <td>1.0</td>\n",
              "      <td>Changping</td>\n",
              "      <td>300.0</td>\n",
              "    </tr>\n",
              "    <tr>\n",
              "      <th>4</th>\n",
              "      <td>5</td>\n",
              "      <td>2013</td>\n",
              "      <td>3</td>\n",
              "      <td>1</td>\n",
              "      <td>4</td>\n",
              "      <td>3.0</td>\n",
              "      <td>3.0</td>\n",
              "      <td>14.0</td>\n",
              "      <td>8.0</td>\n",
              "      <td>300.0</td>\n",
              "      <td>81.0</td>\n",
              "      <td>-3.5</td>\n",
              "      <td>1022.3</td>\n",
              "      <td>-19.4</td>\n",
              "      <td>0.0</td>\n",
              "      <td>N</td>\n",
              "      <td>2.1</td>\n",
              "      <td>Changping</td>\n",
              "      <td>300.0</td>\n",
              "    </tr>\n",
              "  </tbody>\n",
              "</table>\n",
              "</div>"
            ],
            "text/plain": [
              "   No  year  month  day  hour  PM2.5  PM10   SO2   NO2     CO    O3  TEMP  \\\n",
              "0   1  2013      3    1     0    3.0   6.0  13.0   7.0  300.0  85.0  -2.3   \n",
              "1   2  2013      3    1     1    3.0   3.0   6.0   6.0  300.0  85.0  -2.5   \n",
              "2   3  2013      3    1     2    3.0   3.0  22.0  13.0  400.0  74.0  -3.0   \n",
              "3   4  2013      3    1     3    3.0   6.0  12.0   8.0  300.0  81.0  -3.6   \n",
              "4   5  2013      3    1     4    3.0   3.0  14.0   8.0  300.0  81.0  -3.5   \n",
              "\n",
              "     PRES  DEWP  RAIN   wd  WSPM    station    AQI  \n",
              "0  1020.8 -19.7   0.0    E   0.5  Changping  300.0  \n",
              "1  1021.3 -19.0   0.0  ENE   0.7  Changping  300.0  \n",
              "2  1021.3 -19.9   0.0  ENE   0.2  Changping  400.0  \n",
              "3  1021.8 -19.1   0.0  NNE   1.0  Changping  300.0  \n",
              "4  1022.3 -19.4   0.0    N   2.1  Changping  300.0  "
            ]
          },
          "execution_count": 33,
          "metadata": {},
          "output_type": "execute_result"
        }
      ],
      "source": [
        "air_quality.head()"
      ]
    }
  ],
  "metadata": {
    "colab": {
      "collapsed_sections": [
        "CAbLCP69LGdY",
        "gp-Y6wU38DC1",
        "zsyZjqak8DC2",
        "9y4VUsmcYNZ5",
        "_WeHlCeX8DC2"
      ],
      "provenance": []
    },
    "kernelspec": {
      "display_name": "kualitas_udara",
      "language": "python",
      "name": "python3"
    },
    "language_info": {
      "codemirror_mode": {
        "name": "ipython",
        "version": 3
      },
      "file_extension": ".py",
      "mimetype": "text/x-python",
      "name": "python",
      "nbconvert_exporter": "python",
      "pygments_lexer": "ipython3",
      "version": "3.13.2"
    },
    "orig_nbformat": 4
  },
  "nbformat": 4,
  "nbformat_minor": 0
}
